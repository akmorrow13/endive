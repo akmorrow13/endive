{
 "cells": [
  {
   "cell_type": "code",
   "execution_count": 21,
   "metadata": {
    "collapsed": false
   },
   "outputs": [
    {
     "name": "stdout",
     "output_type": "stream",
     "text": [
      "Populating the interactive namespace from numpy and matplotlib\n"
     ]
    }
   ],
   "source": [
    "%pylab inline\n",
    "from snakebite.client import Client\n",
    "import pyaml as yaml\n",
    "import sys\n",
    "import pythonrun\n",
    "reload(pythonrun)\n",
    "import os\n",
    "import seaborn as sns\n",
    "from sklearn import metrics\n",
    "import scala_python_endive_wrapper\n",
    "reload(scala_python_endive_wrapper)\n",
    "from scala_python_endive_wrapper import *\n",
    "import pandas as pd\n",
    "import os\n",
    "import submission"
   ]
  },
  {
   "cell_type": "code",
   "execution_count": 22,
   "metadata": {
    "collapsed": true
   },
   "outputs": [],
   "source": [
    "hdfsclient = Client(\"amp-spark-master.amp\", 8020, use_trash=False)\n",
    "notebook_stdout = sys.stdout\n",
    "notebook_stderr = sys.stderr\n",
    "terminal_stdout = open('/dev/stdout', 'w')\n",
    "terminal_stderr = open('/dev/stderr', 'w')\n",
    "logpath = \"/tmp/log\""
   ]
  },
  {
   "cell_type": "code",
   "execution_count": 24,
   "metadata": {
    "collapsed": false
   },
   "outputs": [
    {
     "ename": "OSError",
     "evalue": "[Errno 2] No such file or directory: '/tmp/testPreds'",
     "output_type": "error",
     "traceback": [
      "\u001b[0;31m---------------------------------------------------------------------------\u001b[0m",
      "\u001b[0;31mOSError\u001b[0m                                   Traceback (most recent call last)",
      "\u001b[0;32m<ipython-input-24-80a2a4cdecd7>\u001b[0m in \u001b[0;36m<module>\u001b[0;34m()\u001b[0m\n\u001b[1;32m     18\u001b[0m                                           \u001b[0mcores_per_executor\u001b[0m\u001b[0;34m=\u001b[0m\u001b[0;36m32\u001b[0m\u001b[0;34m,\u001b[0m\u001b[0;34m\u001b[0m\u001b[0m\n\u001b[1;32m     19\u001b[0m                                           \u001b[0mexecutor_mem\u001b[0m\u001b[0;34m=\u001b[0m\u001b[0;34m\"200g\"\u001b[0m\u001b[0;34m,\u001b[0m\u001b[0;34m\u001b[0m\u001b[0m\n\u001b[0;32m---> 20\u001b[0;31m                                           approxDim=2048)\n\u001b[0m",
      "\u001b[0;32m/home/eecs/vaishaal/endive/python/scala_python_endive_wrapper.py\u001b[0m in \u001b[0;36mrun_test_pipeline\u001b[0;34m(featuresPath, logpath, hdfsclient, predictionsPath, modelPath, approxDim, cores_per_executor, num_executors, executor_mem, use_yarn, base_config)\u001b[0m\n\u001b[1;32m    229\u001b[0m \u001b[0;34m\u001b[0m\u001b[0m\n\u001b[1;32m    230\u001b[0m     \u001b[0mtest_pred_name\u001b[0m \u001b[0;34m=\u001b[0m \u001b[0mpredictionsPath\u001b[0m \u001b[0;34m+\u001b[0m \u001b[0;34m\"/testPreds\"\u001b[0m\u001b[0;34m\u001b[0m\u001b[0m\n\u001b[0;32m--> 231\u001b[0;31m     \u001b[0mtest_preds\u001b[0m \u001b[0;34m=\u001b[0m \u001b[0mload_hdfs_vector_parallel\u001b[0m\u001b[0;34m(\u001b[0m\u001b[0mtest_pred_name\u001b[0m\u001b[0;34m,\u001b[0m \u001b[0mhdfsclient\u001b[0m\u001b[0;34m=\u001b[0m\u001b[0mhdfsclient\u001b[0m\u001b[0;34m,\u001b[0m \u001b[0mshape\u001b[0m\u001b[0;34m=\u001b[0m\u001b[0;34m(\u001b[0m\u001b[0;34m-\u001b[0m\u001b[0;36m1\u001b[0m\u001b[0;34m,\u001b[0m \u001b[0;36m3\u001b[0m\u001b[0;34m)\u001b[0m\u001b[0;34m)\u001b[0m\u001b[0;34m\u001b[0m\u001b[0m\n\u001b[0m\u001b[1;32m    232\u001b[0m     \u001b[0mtest_meta_name\u001b[0m \u001b[0;34m=\u001b[0m \u001b[0mpredictionsPath\u001b[0m \u001b[0;34m+\u001b[0m \u001b[0;34m\"/testMetaData\"\u001b[0m\u001b[0;34m\u001b[0m\u001b[0m\n\u001b[1;32m    233\u001b[0m     \u001b[0mtest_meta\u001b[0m  \u001b[0;34m=\u001b[0m \u001b[0mload_test_metadata\u001b[0m\u001b[0;34m(\u001b[0m\u001b[0mtest_meta_name\u001b[0m\u001b[0;34m,\u001b[0m \u001b[0mhdfsclient\u001b[0m\u001b[0;34m=\u001b[0m\u001b[0mhdfsclient\u001b[0m\u001b[0;34m)\u001b[0m\u001b[0;34m\u001b[0m\u001b[0m\n",
      "\u001b[0;32m/home/eecs/vaishaal/endive/python/scala_python_endive_wrapper.py\u001b[0m in \u001b[0;36mload_hdfs_vector_parallel\u001b[0;34m(hdfsPath, hdfsclient, tmpPath, shape)\u001b[0m\n\u001b[1;32m    307\u001b[0m         \u001b[0;32mreturn\u001b[0m \u001b[0mos\u001b[0m\u001b[0;34m.\u001b[0m\u001b[0mstat\u001b[0m\u001b[0;34m(\u001b[0m\u001b[0mpartName\u001b[0m\u001b[0;34m)\u001b[0m\u001b[0;34m.\u001b[0m\u001b[0mst_size\u001b[0m \u001b[0;34m!=\u001b[0m \u001b[0;36m0\u001b[0m\u001b[0;34m\u001b[0m\u001b[0m\n\u001b[1;32m    308\u001b[0m \u001b[0;34m\u001b[0m\u001b[0m\n\u001b[0;32m--> 309\u001b[0;31m     \u001b[0mparts\u001b[0m \u001b[0;34m=\u001b[0m \u001b[0mfilter\u001b[0m\u001b[0;34m(\u001b[0m\u001b[0mfilter_empty\u001b[0m\u001b[0;34m,\u001b[0m \u001b[0mlist\u001b[0m\u001b[0;34m(\u001b[0m\u001b[0mos\u001b[0m\u001b[0;34m.\u001b[0m\u001b[0mlistdir\u001b[0m\u001b[0;34m(\u001b[0m\u001b[0mtmpPath\u001b[0m \u001b[0;34m+\u001b[0m \u001b[0mfname\u001b[0m\u001b[0;34m)\u001b[0m\u001b[0;34m)\u001b[0m\u001b[0;34m)\u001b[0m\u001b[0;34m\u001b[0m\u001b[0m\n\u001b[0m\u001b[1;32m    310\u001b[0m \u001b[0;34m\u001b[0m\u001b[0m\n\u001b[1;32m    311\u001b[0m     \u001b[0mnum_cores\u001b[0m \u001b[0;34m=\u001b[0m \u001b[0mmultiprocessing\u001b[0m\u001b[0;34m.\u001b[0m\u001b[0mcpu_count\u001b[0m\u001b[0;34m(\u001b[0m\u001b[0;34m)\u001b[0m\u001b[0;34m\u001b[0m\u001b[0m\n",
      "\u001b[0;31mOSError\u001b[0m: [Errno 2] No such file or directory: '/tmp/testPreds'"
     ]
    }
   ],
   "source": [
    "\n",
    "\n",
    "# output where to save temporary predictions\n",
    "predictionsPath = \"/home/eecs/vaishaal/tmp/L.EGR1.K562.tab.tmp\"\n",
    "\n",
    "# where is model saved?\n",
    "modelPath = \"/home/eecs/akmorrow/endive-models\"\n",
    "\n",
    "# test FeaturizedLabeledWindows\n",
    "featuresPath = \"hdfs://amp-spark-master.amp:8020/user/akmorrow/testFeatures/K562_dim_2048_dim_2048_samp_1.0\"\n",
    "approxDim = 2048\n",
    "\n",
    "(test_preds, meta_df) = run_test_pipeline(featuresPath, # features for test windows\n",
    "                                          \"/tmp/logs\",\n",
    "                                          hdfsclient,\n",
    "                                          predictionsPath, # saves metadata and test preditions to /testMetaData and /testPreds\n",
    "                                          modelPath,\n",
    "                                          cores_per_executor=32,\n",
    "                                          executor_mem=\"200g\",\n",
    "                                          approxDim=2048)"
   ]
  },
  {
   "cell_type": "code",
   "execution_count": 27,
   "metadata": {
    "collapsed": false
   },
   "outputs": [],
   "source": [
    "truePath = \"/home/eecs/vaishaal/endive_test_files/ladder_regions.blacklistfiltered.bed\"\n",
    "outputPath = \"/home/eecs/vaishaal/tmp/L.EGR1.K562.tab\"\n",
    "submission.format_and_save_submission(truePath, predictionsPath, outputPath)"
   ]
  },
  {
   "cell_type": "code",
   "execution_count": null,
   "metadata": {
    "collapsed": true
   },
   "outputs": [],
   "source": []
  }
 ],
 "metadata": {
  "kernelspec": {
   "display_name": "Python 2",
   "language": "python",
   "name": "python2"
  },
  "language_info": {
   "codemirror_mode": {
    "name": "ipython",
    "version": 2
   },
   "file_extension": ".py",
   "mimetype": "text/x-python",
   "name": "python",
   "nbconvert_exporter": "python",
   "pygments_lexer": "ipython2",
   "version": "2.7.12"
  }
 },
 "nbformat": 4,
 "nbformat_minor": 0
}
