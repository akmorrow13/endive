{
 "cells": [
  {
   "cell_type": "code",
   "execution_count": 11,
   "metadata": {
    "collapsed": false
   },
   "outputs": [
    {
     "name": "stdout",
     "output_type": "stream",
     "text": [
      "Installed autotime.py. To use it, type:\n",
      "  %load_ext autotime\n"
     ]
    },
    {
     "name": "stderr",
     "output_type": "stream",
     "text": [
      "/home/eecs/vaishaal/anaconda2/lib/python2.7/site-packages/IPython/core/magics/extension.py:47: UserWarning: %install_ext` is deprecated, please distribute your extension(s)as a python packages.\n",
      "  \"as a python packages.\", UserWarning)\n"
     ]
    }
   ],
   "source": [
    "%install_ext https://raw.github.com/cpcloud/ipython-autotime/master/autotime.py\n",
    "%load_ext autotime"
   ]
  },
  {
   "cell_type": "code",
   "execution_count": 86,
   "metadata": {
    "collapsed": false
   },
   "outputs": [
    {
     "name": "stdout",
     "output_type": "stream",
     "text": [
      "Populating the interactive namespace from numpy and matplotlib\n",
      "time: 13.5 ms\n"
     ]
    },
    {
     "name": "stderr",
     "output_type": "stream",
     "text": [
      "WARNING: pylab import has clobbered these variables: ['power', 'random', 'fft', 'linalg', 'info']\n",
      "`%matplotlib` prevents importing * from pylab and numpy\n"
     ]
    }
   ],
   "source": [
    "%pylab inline\n",
    "from snakebite.client import Client\n",
    "import pyaml as yaml\n",
    "import sys\n",
    "import pythonrun\n",
    "reload(pythonrun)\n",
    "import os\n",
    "import seaborn as sns\n",
    "from sklearn import metrics\n",
    "import scala_python_endive_wrapper\n",
    "reload(scala_python_endive_wrapper)\n",
    "from scala_python_endive_wrapper import *"
   ]
  },
  {
   "cell_type": "code",
   "execution_count": 2,
   "metadata": {
    "collapsed": true
   },
   "outputs": [],
   "source": [
    "hdfsclient = Client(\"amp-spark-master.amp\", 8020, use_trash=False)\n",
    "notebook_stdout = sys.stdout\n",
    "notebook_stderr = sys.stderr\n",
    "terminal_stdout = open('/dev/stdout', 'w')\n",
    "terminal_stderr = open('/dev/stderr', 'w')\n",
    "logpath = \"/tmp/log\""
   ]
  },
  {
   "cell_type": "code",
   "execution_count": 24,
   "metadata": {
    "collapsed": true
   },
   "outputs": [],
   "source": [
    "\n",
    "executor_mem = \"100g\"\n",
    "cores_per_executor = 32\n",
    "num_executors = 14"
   ]
  },
  {
   "cell_type": "code",
   "execution_count": 51,
   "metadata": {
    "collapsed": false
   },
   "outputs": [
    {
     "name": "stdout",
     "output_type": "stream",
     "text": [
      "time: 6.71 ms\n"
     ]
    }
   ],
   "source": [
    "# CHANGE ME\n",
    "dataset_creation_config = \\\n",
    "{\n",
    "    \"labels\": \"/user/vaishaal/endive-data/ChIPseq/labels/EGR1.train.labels.tsv\", \\\n",
    "    \"reference\": \"/home/eecs/akmorrow/ADAM/endive/workfiles/hg19.2bit\", \\\n",
    "    \"dnase\": \"/user/vaishaal/endive-data/DNASE/peaks/relaxed/\", \\\n",
    "    \"aggregatedSequenceOutput\": \"/user/vaishaal/endive-data/aggregated/EGR1/\"\n",
    "}\n",
    "\n",
    "EGR1_PATH = \"/user/vaishaal/endive-data/aggregated/EGR1/EGR1\"\n",
    "ATF2_PATH = \"/user/vaishaal/endive-data/aggregated/ATF2/ATF2\"\n"
   ]
  },
  {
   "cell_type": "code",
   "execution_count": 21,
   "metadata": {
    "collapsed": false
   },
   "outputs": [],
   "source": [
    "# Run scala job send output to terminal to create windows\n",
    "sys.stdout = terminal_stdout\n",
    "sys.stderr = terminal_stderr\n",
    "pythonrun.run(dataset_creation_config, \n",
    "              logpath,\n",
    "              dataset_creation_pipeline_class, \n",
    "              pipeline_jar, \n",
    "              executor_mem,\n",
    "              cores_per_executor, \n",
    "              num_executors,\n",
    "              use_yarn=True)"
   ]
  },
  {
   "cell_type": "code",
   "execution_count": 28,
   "metadata": {
    "collapsed": false
   },
   "outputs": [
    {
     "data": {
      "text/plain": [
       "0"
      ]
     },
     "execution_count": 28,
     "metadata": {},
     "output_type": "execute_result"
    },
    {
     "name": "stdout",
     "output_type": "stream",
     "text": [
      "time: 12.2 ms\n"
     ]
    }
   ],
   "source": [
    "sys.stdout = notebook_stdout\n",
    "sys.stderr = notebook_stderr\n",
    "os.system(\"mkdir -p {0}\".format(kernel_pipeline_config[\"predictionsOutput\"]))"
   ]
  },
  {
   "cell_type": "code",
   "execution_count": null,
   "metadata": {
    "collapsed": false
   },
   "outputs": [],
   "source": [
    "# this is where the magic happens\n",
    "((y_train, y_train_pred), (y_test, y_test_pred)) = run_kernel_pipeline(EGR1_PATH,\n",
    "                                                                       \"/tmp/filters.csv\", \n",
    "                                                                       logpath, \n",
    "                                                                       filter_gen_gen=make_gaussian_filter_gen,\n",
    "                                                                       reg=1e-8,\n",
    "                                                                       negativeSamplingFreq=0.1)"
   ]
  },
  {
   "cell_type": "markdown",
   "metadata": {},
   "source": [
    "#### ROC Metrics"
   ]
  },
  {
   "cell_type": "code",
   "execution_count": 93,
   "metadata": {
    "collapsed": false
   },
   "outputs": [
    {
     "name": "stdout",
     "output_type": "stream",
     "text": [
      "Train AUC 0.905775637466\n",
      "Test AUC 0.890266688574\n"
     ]
    },
    {
     "data": {
      "image/png": "[encoded data removed]",
      "text/plain": [
       "<matplotlib.figure.Figure at 0x7f58e70d0e10>"
      ]
     },
     "metadata": {},
     "output_type": "display_data"
    },
    {
     "data": {
      "text/plain": [
       "<matplotlib.figure.Figure at 0x7f58e70c67d0>"
      ]
     },
     "metadata": {},
     "output_type": "display_data"
    },
    {
     "name": "stdout",
     "output_type": "stream",
     "text": [
      "time: 2.73 s\n"
     ]
    }
   ],
   "source": [
    "sys.stdout = notebook_stdout\n",
    "sys.stderr = notebook_stderr\n",
    "fpr, tpr, thresh = metrics.roc_curve(y_train, y_train_pred)\n",
    "train_auc = metrics.roc_auc_score(y_train, y_train_pred)\n",
    "plot(fpr, tpr, label=\"train\")\n",
    "\n",
    "fpr, tpr, thresh = metrics.roc_curve(y_test, y_test_pred)\n",
    "test_auc = metrics.roc_auc_score(y_test, y_test_pred)\n",
    "\n",
    "plot(fpr, tpr, label=\"test\")\n",
    "\n",
    "plt.legend(loc=4)\n",
    "plt.figure()\n",
    "print(\"Train AUC {0}\".format(train_auc))\n",
    "print(\"Test AUC {0}\".format(test_auc))"
   ]
  },
  {
   "cell_type": "markdown",
   "metadata": {},
   "source": [
    "#### PR Metrics"
   ]
  },
  {
   "cell_type": "code",
   "execution_count": 68,
   "metadata": {
    "collapsed": false
   },
   "outputs": [
    {
     "name": "stdout",
     "output_type": "stream",
     "text": [
      "Train PR AUC 0.757754546452\n",
      "Test PR AUC 0.121105773929\n"
     ]
    },
    {
     "data": {
      "image/png": "[encoded data removed]",
      "text/plain": [
       "<matplotlib.figure.Figure at 0x7f58ddd2ac10>"
      ]
     },
     "metadata": {},
     "output_type": "display_data"
    },
    {
     "data": {
      "text/plain": [
       "<matplotlib.figure.Figure at 0x7f58d264d5d0>"
      ]
     },
     "metadata": {},
     "output_type": "display_data"
    },
    {
     "name": "stdout",
     "output_type": "stream",
     "text": [
      "time: 2.96 s\n"
     ]
    }
   ],
   "source": [
    "sys.stdout = notebook_stdout\n",
    "sys.stderr = notebook_stderr\n",
    "fpr, tpr, thresh = metrics.precision_recall_curve(y_train, y_train_pred)\n",
    "train_auc = metrics.average_precision_score(y_train, y_train_pred)\n",
    "plot(fpr, tpr, label=\"train\")\n",
    "\n",
    "fpr, tpr, thresh = metrics.precision_recall_curve(y_test, y_test_pred)\n",
    "test_auc = metrics.average_precision_score(y_test, y_test_pred)\n",
    "\n",
    "plot(fpr, tpr, label=\"test\")\n",
    "\n",
    "plt.legend(loc=4)\n",
    "plt.figure()\n",
    "print(\"Train PR AUC {0}\".format(train_auc))\n",
    "print(\"Test PR AUC {0}\".format(test_auc))"
   ]
  },
  {
   "cell_type": "code",
   "execution_count": 92,
   "metadata": {
    "collapsed": false
   },
   "outputs": [
    {
     "name": "stdout",
     "output_type": "stream",
     "text": [
      "HI\n",
      "time: 1.83 ms\n"
     ]
    }
   ],
   "source": [
    "print(\"HI\")"
   ]
  },
  {
   "cell_type": "code",
   "execution_count": null,
   "metadata": {
    "collapsed": true
   },
   "outputs": [],
   "source": []
  }
 ],
 "metadata": {
  "kernelspec": {
   "display_name": "Python 2",
   "language": "python",
   "name": "python2"
  },
  "language_info": {
   "codemirror_mode": {
    "name": "ipython",
    "version": 2
   },
   "file_extension": ".py",
   "mimetype": "text/x-python",
   "name": "python",
   "nbconvert_exporter": "python",
   "pygments_lexer": "ipython2",
   "version": "2.7.12"
  }
 },
 "nbformat": 4,
 "nbformat_minor": 0
}
