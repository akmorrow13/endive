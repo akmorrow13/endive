{
 "cells": [
  {
   "cell_type": "markdown",
   "metadata": {
    "collapsed": false
   },
   "source": [
    "# %install_ext https://raw.github.com/cpcloud/ipython-autotime/master/autotime.py\n",
    "%load_ext autotime"
   ]
  },
  {
   "cell_type": "code",
   "execution_count": 1,
   "metadata": {
    "collapsed": false
   },
   "outputs": [
    {
     "name": "stdout",
     "output_type": "stream",
     "text": [
      "Populating the interactive namespace from numpy and matplotlib\n"
     ]
    }
   ],
   "source": [
    "%pylab inline\n",
    "from snakebite.client import Client\n",
    "import pyaml as yaml\n",
    "import sys\n",
    "import pythonrun\n",
    "reload(pythonrun)\n",
    "import os\n",
    "import seaborn as sns\n",
    "from sklearn import metrics\n",
    "import scala_python_endive_wrapper\n",
    "reload(scala_python_endive_wrapper)\n",
    "from scala_python_endive_wrapper import *\n",
    "import pandas as pd"
   ]
  },
  {
   "cell_type": "code",
   "execution_count": 5,
   "metadata": {
    "collapsed": false
   },
   "outputs": [
    {
     "name": "stdout",
     "output_type": "stream",
     "text": [
      "time: 6.7 ms\n"
     ]
    }
   ],
   "source": [
    "hdfsclient = Client(\"amp-spark-master.amp\", 8020, use_trash=False)\n",
    "notebook_stdout = sys.stdout\n",
    "notebook_stderr = sys.stderr\n",
    "terminal_stdout = open('/dev/stdout', 'w')\n",
    "terminal_stderr = open('/dev/stderr', 'w')\n",
    "logpath = \"/tmp/log\""
   ]
  },
  {
   "cell_type": "code",
   "execution_count": 29,
   "metadata": {
    "collapsed": false
   },
   "outputs": [
    {
     "name": "stdout",
     "output_type": "stream",
     "text": [
      "time: 2.34 ms\n"
     ]
    }
   ],
   "source": [
    "\n",
    "executor_mem = \"200g\"\n",
    "cores_per_executor = 24\n",
    "num_executors = 14"
   ]
  },
  {
   "cell_type": "code",
   "execution_count": 9,
   "metadata": {
    "collapsed": false
   },
   "outputs": [
    {
     "name": "stdout",
     "output_type": "stream",
     "text": [
      "time: 5.06 ms\n"
     ]
    }
   ],
   "source": [
    "# CHANGE ME\n",
    "dataset_creation_config = \\\n",
    "{\n",
    "    \"labels\": \"/user/vaishaal/endive-data/ChIPseq/labels/EGR1.train.labels.tsv\", \\\n",
    "    \"reference\": \"/home/eecs/akmorrow/ADAM/endive/workfiles/hg19.2bit\", \\\n",
    "    \"dnase\": \"/user/vaishaal/endive-data/DNASE/peaks/relaxed/\", \\\n",
    "    \"aggregatedSequenceOutput\": \"/user/vaishaal/endive-data/aggregated/EGR1/\"\n",
    "}\n",
    "\n",
    "EGR1_PATH = \"/user/vaishaal/endive-data/aggregated/EGR1/EGR1\"\n",
    "ATF2_PATH = \"/user/vaishaal/endive-data/aggregated/ATF2/ATF2\"\n"
   ]
  },
  {
   "cell_type": "code",
   "execution_count": null,
   "metadata": {
    "collapsed": false
   },
   "outputs": [],
   "source": [
    "# this is where the magic happens\n",
    "results = [] \n",
    "for seed in range(2):\n",
    "    try:\n",
    "        res = run_kernel_pipeline(EGR1_PATH,\n",
    "                           \"/tmp/filters.csv\", \n",
    "                           logpath, \n",
    "                           seed=0,\n",
    "                           filter_gen_gen=make_gaussian_filter_gen,\n",
    "                           cores_per_executor=cores_per_executor,\n",
    "                           negativeSamplingFreq=1.0,\n",
    "                           executor_mem=executor_mem,\n",
    "                           predictionsOutput=\"/user/vaishaal/tmp/seed_run/{0}/\".format(seed),\n",
    "                           num_executors=num_executors)\n",
    "        results.append(res)\n",
    "    except:\n",
    "        pass\n",
    "        \n"
   ]
  },
  {
   "cell_type": "code",
   "execution_count": 25,
   "metadata": {
    "collapsed": false
   },
   "outputs": [
    {
     "data": {
      "text/plain": [
       "72837866"
      ]
     },
     "execution_count": 25,
     "metadata": {},
     "output_type": "execute_result"
    },
    {
     "name": "stdout",
     "output_type": "stream",
     "text": [
      "time: 3.68 ms\n"
     ]
    }
   ],
   "source": [
    "len(res[0][0])"
   ]
  },
  {
   "cell_type": "markdown",
   "metadata": {},
   "source": [
    "#### ROC Metrics"
   ]
  },
  {
   "cell_type": "code",
   "execution_count": 19,
   "metadata": {
    "collapsed": false
   },
   "outputs": [
    {
     "name": "stdout",
     "output_type": "stream",
     "text": [
      "time: 15.9 ms\n"
     ]
    }
   ],
   "source": [
    "df_base = []\n",
    "for i,res in enumerate(results):\n",
    "    ((y_train, y_train_pred), (y_test, y_test_pred)) = res\n",
    "    result = {}\n",
    "    sys.stdout = notebook_stdout\n",
    "    sys.stderr = notebook_stderr\n",
    "    train_roc_auc = metrics.roc_auc_score(y_train, y_train_pred)\n",
    "    test_roc_auc = metrics.roc_auc_score(y_test, y_test_pred)\n",
    "    train_pr_auc = metrics.average_precision_score(y_train, y_train_pred)\n",
    "    test_pr_auc = metrics.average_precision_score(y_test, y_test_pred)\n",
    "    result['train_roc'] = train_roc_auc\n",
    "    result['test_roc'] = test_roc_auc\n",
    "    result['train_pr'] = train_pr_auc\n",
    "    result['test_pr'] = test_pr_auc\n",
    "    result['seed'] = i\n",
    "    df_base.append(result)"
   ]
  },
  {
   "cell_type": "code",
   "execution_count": 14,
   "metadata": {
    "collapsed": false
   },
   "outputs": [
    {
     "name": "stdout",
     "output_type": "stream",
     "text": [
      "time: 3.26 ms\n"
     ]
    }
   ],
   "source": [
    "df = pd.DataFrame(df_base)"
   ]
  },
  {
   "cell_type": "code",
   "execution_count": 15,
   "metadata": {
    "collapsed": false
   },
   "outputs": [
    {
     "data": {
      "text/plain": [
       "<matplotlib.axes._subplots.AxesSubplot at 0x7f4a42cba450>"
      ]
     },
     "execution_count": 15,
     "metadata": {},
     "output_type": "execute_result"
    },
    {
     "data": {
      "image/png": "[encoded data removed]",
      "text/plain": [
       "<matplotlib.figure.Figure at 0x7f4a42e4b3d0>"
      ]
     },
     "metadata": {},
     "output_type": "display_data"
    },
    {
     "name": "stdout",
     "output_type": "stream",
     "text": [
      "time: 205 ms\n"
     ]
    }
   ],
   "source": [
    "sns.stripplot(x='seed', y='test_pr', data=df)"
   ]
  },
  {
   "cell_type": "code",
   "execution_count": 43,
   "metadata": {
    "collapsed": false
   },
   "outputs": [
    {
     "data": {
      "text/plain": [
       "<matplotlib.axes._subplots.AxesSubplot at 0x7f6cafb8de90>"
      ]
     },
     "execution_count": 43,
     "metadata": {},
     "output_type": "execute_result"
    },
    {
     "data": {
      "image/png": "[encoded data removed]",
      "text/plain": [
       "<matplotlib.figure.Figure at 0x7f6ca6b81750>"
      ]
     },
     "metadata": {},
     "output_type": "display_data"
    }
   ],
   "source": [
    "sns.stripplot(x='seed', y='test_pr', data=df)"
   ]
  },
  {
   "cell_type": "markdown",
   "metadata": {},
   "source": [
    "#### PR Metrics"
   ]
  },
  {
   "cell_type": "code",
   "execution_count": 68,
   "metadata": {
    "collapsed": false
   },
   "outputs": [
    {
     "name": "stdout",
     "output_type": "stream",
     "text": [
      "Train PR AUC 0.757754546452\n",
      "Test PR AUC 0.121105773929\n"
     ]
    },
    {
     "data": {
      "image/png": "[encoded data removed]",
      "text/plain": [
       "<matplotlib.figure.Figure at 0x7f58ddd2ac10>"
      ]
     },
     "metadata": {},
     "output_type": "display_data"
    },
    {
     "data": {
      "text/plain": [
       "<matplotlib.figure.Figure at 0x7f58d264d5d0>"
      ]
     },
     "metadata": {},
     "output_type": "display_data"
    },
    {
     "name": "stdout",
     "output_type": "stream",
     "text": [
      "time: 2.96 s\n"
     ]
    }
   ],
   "source": [
    "sys.stdout = notebook_stdout\n",
    "sys.stderr = notebook_stderr\n",
    "fpr, tpr, thresh = metrics.precision_recall_curve(y_train, y_train_pred)\n",
    "train_auc = metrics.average_precision_score(y_train, y_train_pred)\n",
    "plot(fpr, tpr, label=\"train\")\n",
    "\n",
    "fpr, tpr, thresh = metrics.precision_recall_curve(y_test, y_test_pred)\n",
    "test_auc = metrics.average_precision_score(y_test, y_test_pred)\n",
    "\n",
    "plot(fpr, tpr, label=\"test\")\n",
    "\n",
    "plt.legend(loc=4)\n",
    "plt.figure()\n",
    "print(\"Train PR AUC {0}\".format(train_auc))\n",
    "print(\"Test PR AUC {0}\".format(test_auc))"
   ]
  },
  {
   "cell_type": "code",
   "execution_count": 37,
   "metadata": {
    "collapsed": false
   },
   "outputs": [
    {
     "name": "stdout",
     "output_type": "stream",
     "text": [
      "HI\n"
     ]
    }
   ],
   "source": [
    "print(\"HI\")"
   ]
  },
  {
   "cell_type": "code",
   "execution_count": null,
   "metadata": {
    "collapsed": true
   },
   "outputs": [],
   "source": []
  }
 ],
 "metadata": {
  "kernelspec": {
   "display_name": "Python 2",
   "language": "python",
   "name": "python2"
  },
  "language_info": {
   "codemirror_mode": {
    "name": "ipython",
    "version": 2
   },
   "file_extension": ".py",
   "mimetype": "text/x-python",
   "name": "python",
   "nbconvert_exporter": "python",
   "pygments_lexer": "ipython2",
   "version": "2.7.12"
  }
 },
 "nbformat": 4,
 "nbformat_minor": 0
}
