{
 "cells": [
  {
   "cell_type": "code",
   "execution_count": 747,
   "metadata": {
    "collapsed": false
   },
   "outputs": [
    {
     "name": "stdout",
     "output_type": "stream",
     "text": [
      "Populating the interactive namespace from numpy and matplotlib\n"
     ]
    }
   ],
   "source": [
    "%pylab inline\n",
    "from snakebite.client import Client\n",
    "import pyaml as yaml\n",
    "import sys\n",
    "import pythonrun\n",
    "reload(pythonrun)\n",
    "import os\n",
    "import seaborn as sns\n",
    "\n",
    "from sklearn import metrics\n",
    "import scala_python_endive_wrapper\n",
    "reload(scala_python_endive_wrapper)\n",
    "from scala_python_endive_wrapper import *\n",
    "import pandas as pd\n",
    "import os\n",
    "from sklearn.cluster import KMeans\n",
    "import itertools"
   ]
  },
  {
   "cell_type": "code",
   "execution_count": 661,
   "metadata": {
    "collapsed": false
   },
   "outputs": [],
   "source": [
    "hdfsclient = Client(\"amp-spark-master.amp\", 8020, use_trash=False)\n",
    "notebook_stdout = sys.stdout\n",
    "notebook_stderr = sys.stderr\n",
    "terminal_stdout = open('/dev/stdout', 'w')\n",
    "terminal_stderr = open('/dev/stderr', 'w')\n",
    "logpath = \"/tmp/log\""
   ]
  },
  {
   "cell_type": "code",
   "execution_count": 662,
   "metadata": {
    "collapsed": false
   },
   "outputs": [],
   "source": [
    "executor_mem = \"200g\"\n",
    "cores_per_executor = 32\n",
    "num_executors = 14\n",
    "EGR1_PATH = '/user/vaishaal/endive-data/EGR1'\n",
    "ATF3_PATH = '/user/vaishaal/endive-data/ATF3'"
   ]
  },
  {
   "cell_type": "code",
   "execution_count": 700,
   "metadata": {
    "collapsed": false,
    "scrolled": true
   },
   "outputs": [],
   "source": [
    "W = run_filter_generation(\"/user/akmorrow/full_dnase/EGR1\", \"/tmp/filters.csv\")"
   ]
  },
  {
   "cell_type": "code",
   "execution_count": null,
   "metadata": {
    "collapsed": false
   },
   "outputs": [],
   "source": [
    "W"
   ]
  },
  {
   "cell_type": "code",
   "execution_count": null,
   "metadata": {
    "collapsed": false
   },
   "outputs": [],
   "source": [
    "# this is where the magic happens\n",
    "results = [] \n",
    "num_filters = [256]\n",
    "gammas = [1.0]\n",
    "dnase_gammas = [1.0]\n",
    "kmer_sizes = [8]\n",
    "dnase_kmer_sizes = [100]\n",
    "replicates = [0]\n",
    "normalizeDnases = [False]\n",
    "\n",
    "params = list(itertools.product(num_filters, gammas, dnase_gammas, kmer_sizes, dnase_kmer_sizes, replicates, normalizeDnases))"
   ]
  },
  {
   "cell_type": "code",
   "execution_count": null,
   "metadata": {
    "collapsed": false
   },
   "outputs": [],
   "source": [
    "params"
   ]
  },
  {
   "cell_type": "code",
   "execution_count": null,
   "metadata": {
    "collapsed": false
   },
   "outputs": [
    {
     "name": "stdout",
     "output_type": "stream",
     "text": [
      "W SHAPE  (256, 232)\n",
      "NORMALIZE DNASE  False\n"
     ]
    }
   ],
   "source": [
    "chromosomes = map(lambda x: \"chr{0}\".format(x+1), range(23))\n",
    "# CHANGE ME BASED ON ENUM + TF\n",
    "egr1_cell_types = string_to_enum_celltypes(['GM12878', 'H1hESC', 'HCT116', 'MCF7'])\n",
    "for param in params:\n",
    "    num_filter, gamma, dnase_gamma, kmer_size, dnase_kmer_size, replicate, normalizeDnase = param\n",
    "    feat_out_loc = \"/user/vaishaal/featurizedWindows/empirical-sequence-dnase-normalized-{6}/tiny/{0}-filters/{1}-gamma/{2}-dnase-gamma/{3}-kmers/{4}-dnase-kmers/replicate-{5}\"\\\n",
    "                    .format(num_filter, gamma, dnase_gamma, kmer_size, dnase_kmer_size, replicate, normalizeDnase)\n",
    "    res = run_kitchensink_featurize_pipeline(EGR1_PATH,\n",
    "                           W,\n",
    "                           \"/tmp/filters.csv\", \n",
    "                           logpath, \n",
    "                           seed=0,\n",
    "                           cores_per_executor=cores_per_executor,\n",
    "                           sample=0.01,\n",
    "                           alphabet_size=4,\n",
    "                           kmer_size=kmer_size,\n",
    "                           dnase_kmer_size=dnase_kmer_size,\n",
    "                           gamma=gamma,\n",
    "                           dnase_gamma=dnase_gamma,\n",
    "                           executor_mem=executor_mem,\n",
    "                           num_filters=num_filter,\n",
    "                           normalizeDnase=normalizeDnase,\n",
    "                           num_partitions=cores_per_executor*num_executors,\n",
    "                           featuresOutput=feat_out_loc,\n",
    "                           num_executors=num_executors)\n",
    "                "
   ]
  },
  {
   "cell_type": "code",
   "execution_count": null,
   "metadata": {
    "collapsed": true
   },
   "outputs": [],
   "source": [
    "results_dfs = []"
   ]
  },
  {
   "cell_type": "code",
   "execution_count": 773,
   "metadata": {
    "collapsed": false,
    "scrolled": true
   },
   "outputs": [
    {
     "name": "stdout",
     "output_type": "stream",
     "text": [
      "FEAT OUT LOC /user/vaishaal/featurizedWindows/sequence-dnase-normalized-False/tiny/256-filters/1.0-gamma/1.0-dnase-gamma/8-kmers/100-dnase-kmers/replicate-0\n",
      "FOLD 0\n",
      "HOLDING OUT CHROMOSOMES ['chr12', 'chr11', 'chr22']\n",
      "HOLDING OUT CELL TYPES [3]\n",
      "RUNING SOLVER WITH REG=1e-08\n",
      "\n",
      "(2649302,)\n",
      "(-1, 2)\n",
      "\n",
      "(54010,)\n",
      "(-1, 2)\n",
      "COMPUTING train metrics\n",
      "COMPUTING val metrics\n",
      "  cutoff  dnase_gamma  dnase_kmer_size  gamma  negativeSamplingFreq  \\\n",
      "0   None            1              100      1                  0.01   \n",
      "\n",
      "   num_filter  num_iters_hard_negative           reg test_celltypes  \\\n",
      "0         256                        1  1.000000e-08            [3]   \n",
      "\n",
      "        test_chromosomes          ...           train_recall_at_05_fdr  \\\n",
      "0  [chr12, chr11, chr22]          ...                         0.003208   \n",
      "\n",
      "   train_recall_at_10_fdr  train_recall_at_25_fdr  train_recall_at_50_fdr  \\\n",
      "0                0.009624                0.098132                0.764484   \n",
      "\n",
      "   val_auPRC  val_auROC  val_recall_at_05_fdr  val_recall_at_10_fdr  \\\n",
      "0    0.20565   0.985096              0.074074              0.074074   \n",
      "\n",
      "   val_recall_at_25_fdr  val_recall_at_50_fdr  \n",
      "0              0.074074              0.074074  \n",
      "\n",
      "[1 rows x 22 columns]\n"
     ]
    }
   ],
   "source": [
    "for param in params:\n",
    "    num_filter, gamma, dnase_gamma, kmer_size, dnase_kmer_size, replicate, normalizeDnase = param\n",
    "    feat_out_loc = \"/user/vaishaal/featurizedWindows/sequence-dnase-normalized-{6}/tiny/{0}-filters/{1}-gamma/{2}-dnase-gamma/{3}-kmers/{4}-dnase-kmers/replicate-{5}\"\\\n",
    "                    .format(num_filter, gamma, dnase_gamma, kmer_size, dnase_kmer_size, replicate, normalizeDnase)\n",
    "    print(\"FEAT OUT LOC \" + feat_out_loc)\n",
    "    meta = {}\n",
    "    meta['num_filter'] = num_filter\n",
    "    meta['dnase_kmer_size'] = dnase_kmer_size\n",
    "    meta['dnase_gamma'] = dnase_gamma\n",
    "    meta['gamma'] = gamma\n",
    "    meta['cutoff'] = None\n",
    "    for hn in [1]:\n",
    "        results_df, train, val = cross_validate(feat_out_loc, \n",
    "                            hdfsclient, \n",
    "                            chromosomes, \n",
    "                            egr1_cell_types,\n",
    "                            numHoldOutChr=3, \n",
    "                            numHoldOutCell=1,\n",
    "                            cores_per_executor = 32,\n",
    "                            num_executors = 14,\n",
    "                            executor_mem=\"150g\",\n",
    "                            num_folds=1, \n",
    "                            negativeSamplingFreqs=[0.01],\n",
    "                            numItersHardNegative=hn,\n",
    "                            regs=[1e-8],\n",
    "                            other_meta=meta)\n",
    "        print(results_df)\n",
    "        results_dfs.append(results_df)    "
   ]
  },
  {
   "cell_type": "markdown",
   "metadata": {
    "collapsed": false
   },
   "source": [
    "\n",
    "##### results_dfs[-1]"
   ]
  },
  {
   "cell_type": "code",
   "execution_count": 739,
   "metadata": {
    "collapsed": false
   },
   "outputs": [
    {
     "data": {
      "text/html": [
       "<div>\n",
       "<table border=\"1\" class=\"dataframe\">\n",
       "  <thead>\n",
       "    <tr style=\"text-align: right;\">\n",
       "      <th></th>\n",
       "      <th>cutoff</th>\n",
       "      <th>dnase_gamma</th>\n",
       "      <th>dnase_kmer_size</th>\n",
       "      <th>gamma</th>\n",
       "      <th>negativeSamplingFreq</th>\n",
       "      <th>num_filter</th>\n",
       "      <th>num_iters_hard_negative</th>\n",
       "      <th>reg</th>\n",
       "      <th>test_celltypes</th>\n",
       "      <th>test_chromosomes</th>\n",
       "      <th>...</th>\n",
       "      <th>train_recall_at_05_fdr</th>\n",
       "      <th>train_recall_at_10_fdr</th>\n",
       "      <th>train_recall_at_25_fdr</th>\n",
       "      <th>train_recall_at_50_fdr</th>\n",
       "      <th>val_auPRC</th>\n",
       "      <th>val_auROC</th>\n",
       "      <th>val_recall_at_05_fdr</th>\n",
       "      <th>val_recall_at_10_fdr</th>\n",
       "      <th>val_recall_at_25_fdr</th>\n",
       "      <th>val_recall_at_50_fdr</th>\n",
       "    </tr>\n",
       "  </thead>\n",
       "  <tbody>\n",
       "    <tr>\n",
       "      <th>0</th>\n",
       "      <td>None</td>\n",
       "      <td>1</td>\n",
       "      <td>100</td>\n",
       "      <td>1</td>\n",
       "      <td>0.1</td>\n",
       "      <td>256</td>\n",
       "      <td>1</td>\n",
       "      <td>1.000000e-08</td>\n",
       "      <td>[3]</td>\n",
       "      <td>[chr12, chr11, chr22]</td>\n",
       "      <td>...</td>\n",
       "      <td>0</td>\n",
       "      <td>0</td>\n",
       "      <td>0.004676</td>\n",
       "      <td>0.241367</td>\n",
       "      <td>0.195153</td>\n",
       "      <td>0.983943</td>\n",
       "      <td>0.074074</td>\n",
       "      <td>0.074074</td>\n",
       "      <td>0.074074</td>\n",
       "      <td>0.074074</td>\n",
       "    </tr>\n",
       "  </tbody>\n",
       "</table>\n",
       "<p>1 rows × 22 columns</p>\n",
       "</div>"
      ],
      "text/plain": [
       "  cutoff  dnase_gamma  dnase_kmer_size  gamma  negativeSamplingFreq  \\\n",
       "0   None            1              100      1                   0.1   \n",
       "\n",
       "   num_filter  num_iters_hard_negative           reg test_celltypes  \\\n",
       "0         256                        1  1.000000e-08            [3]   \n",
       "\n",
       "        test_chromosomes          ...           train_recall_at_05_fdr  \\\n",
       "0  [chr12, chr11, chr22]          ...                                0   \n",
       "\n",
       "   train_recall_at_10_fdr  train_recall_at_25_fdr  train_recall_at_50_fdr  \\\n",
       "0                       0                0.004676                0.241367   \n",
       "\n",
       "   val_auPRC  val_auROC  val_recall_at_05_fdr  val_recall_at_10_fdr  \\\n",
       "0   0.195153   0.983943              0.074074              0.074074   \n",
       "\n",
       "   val_recall_at_25_fdr  val_recall_at_50_fdr  \n",
       "0              0.074074              0.074074  \n",
       "\n",
       "[1 rows x 22 columns]"
      ]
     },
     "execution_count": 739,
     "metadata": {},
     "output_type": "execute_result"
    }
   ],
   "source": [
    "results_dfs[-1]"
   ]
  },
  {
   "cell_type": "markdown",
   "metadata": {},
   "source": [
    "### pd.concat(results_dfs)[results_dfs[0].columns[2:]]"
   ]
  },
  {
   "cell_type": "code",
   "execution_count": null,
   "metadata": {
    "collapsed": false
   },
   "outputs": [],
   "source": [
    "val_copy = val[0].copy()[np.where(val[0][:, 0] >= 0), :].reshape(-1, 3)"
   ]
  },
  {
   "cell_type": "code",
   "execution_count": null,
   "metadata": {
    "collapsed": false
   },
   "outputs": [],
   "source": [
    "old_results = pd.concat(results_dfs)"
   ]
  },
  {
   "cell_type": "code",
   "execution_count": null,
   "metadata": {
    "collapsed": false
   },
   "outputs": [],
   "source": [
    "print(old_results.to_csv())"
   ]
  },
  {
   "cell_type": "code",
   "execution_count": null,
   "metadata": {
    "collapsed": false
   },
   "outputs": [],
   "source": [
    "val_copy[np.where(val_copy[:, 0] == -1)]\n"
   ]
  },
  {
   "cell_type": "code",
   "execution_count": null,
   "metadata": {
    "collapsed": false
   },
   "outputs": [],
   "source": [
    "results_dfs[-1]"
   ]
  },
  {
   "cell_type": "code",
   "execution_count": null,
   "metadata": {
    "collapsed": false
   },
   "outputs": [],
   "source": [
    "print val[0][np.argsort(val[0][:, 1]), 2]"
   ]
  },
  {
   "cell_type": "code",
   "execution_count": null,
   "metadata": {
    "collapsed": false,
    "scrolled": true
   },
   "outputs": [],
   "source": [
    "sns.stripplot(y=\"val_auROC\", x=\"negativeSamplingFreq\", hue=\"num_iters_hard_negative\", data=pd.concat(results_dfs))"
   ]
  },
  {
   "cell_type": "code",
   "execution_count": null,
   "metadata": {
    "collapsed": false
   },
   "outputs": [],
   "source": [
    "pd.concat(results_dfs)[results_dfs[0].columns[2:]]"
   ]
  },
  {
   "cell_type": "code",
   "execution_count": null,
   "metadata": {
    "collapsed": false
   },
   "outputs": [],
   "source": [
    "print(pd.concat(results_dfs).to_csv())"
   ]
  },
  {
   "cell_type": "code",
   "execution_count": null,
   "metadata": {
    "collapsed": true
   },
   "outputs": [],
   "source": [
    "all_res = pd.concat(results_dfs)"
   ]
  },
  {
   "cell_type": "code",
   "execution_count": null,
   "metadata": {
    "collapsed": false
   },
   "outputs": [],
   "source": [
    "res = pd.concat(results_dfs)[results_dfs[0].columns[2:]][all_res['num_iters_hard_negative'] == 1]"
   ]
  },
  {
   "cell_type": "code",
   "execution_count": null,
   "metadata": {
    "collapsed": false
   },
   "outputs": [],
   "source": [
    "sns.stripplot(data=res, y=\"val_auPRC\", x=\"num_filter\")"
   ]
  },
  {
   "cell_type": "code",
   "execution_count": null,
   "metadata": {
    "collapsed": false
   },
   "outputs": [],
   "source": [
    "old_results = results_dfs"
   ]
  },
  {
   "cell_type": "code",
   "execution_count": null,
   "metadata": {
    "collapsed": false
   },
   "outputs": [],
   "source": [
    "params"
   ]
  },
  {
   "cell_type": "code",
   "execution_count": null,
   "metadata": {
    "collapsed": true
   },
   "outputs": [],
   "source": []
  }
 ],
 "metadata": {
  "anaconda-cloud": {},
  "kernelspec": {
   "display_name": "Python 2",
   "language": "python",
   "name": "python2"
  },
  "language_info": {
   "codemirror_mode": {
    "name": "ipython",
    "version": 2
   },
   "file_extension": ".py",
   "mimetype": "text/x-python",
   "name": "python",
   "nbconvert_exporter": "python",
   "pygments_lexer": "ipython2",
   "version": "2.7.12"
  }
 },
 "nbformat": 4,
 "nbformat_minor": 0
}
