{
 "cells": [
  {
   "cell_type": "code",
   "execution_count": 123,
   "metadata": {
    "collapsed": false
   },
   "outputs": [
    {
     "name": "stdout",
     "output_type": "stream",
     "text": [
      "Populating the interactive namespace from numpy and matplotlib\n"
     ]
    }
   ],
   "source": [
    "%pylab inline\n",
    "from snakebite.client import Client\n",
    "import pyaml as yaml\n",
    "import sys\n",
    "import pythonrun\n",
    "reload(pythonrun)\n",
    "import os\n",
    "import seaborn as sns\n",
    "from sklearn import metrics\n",
    "import scala_python_endive_wrapper\n",
    "reload(scala_python_endive_wrapper)\n",
    "from scala_python_endive_wrapper import *\n",
    "import pandas as pd\n",
    "import os\n",
    "from sklearn.cluster import KMeans"
   ]
  },
  {
   "cell_type": "code",
   "execution_count": 82,
   "metadata": {
    "collapsed": false
   },
   "outputs": [],
   "source": [
    "hdfsclient = Client(\"amp-spark-master.amp\", 8020, use_trash=False)\n",
    "notebook_stdout = sys.stdout\n",
    "notebook_stderr = sys.stderr\n",
    "terminal_stdout = open('/dev/stdout', 'w')\n",
    "terminal_stderr = open('/dev/stderr', 'w')\n",
    "logpath = \"/tmp/log\""
   ]
  },
  {
   "cell_type": "code",
   "execution_count": 139,
   "metadata": {
    "collapsed": false
   },
   "outputs": [],
   "source": [
    "executor_mem = \"200g\"\n",
    "cores_per_executor = 32\n",
    "num_executors = 14\n",
    "EGR1_PATH = '/user/vaishaal/endive-data/EGR1'"
   ]
  },
  {
   "cell_type": "code",
   "execution_count": null,
   "metadata": {
    "collapsed": false
   },
   "outputs": [
    {
     "name": "stdout",
     "output_type": "stream",
     "text": [
      "ALPHABET SIZE  4\n",
      "(256, 32)\n",
      "{'kmerLength': 8, 'reference': '/home/eecs/akmorrow/ADAM/endive/workfiles/hg19.2bit', 'filtersPath': '/tmp/filters.csv', 'numPartitions': 448, 'dnaseBams': '/data/anv/DREAMDATA/dnase_bams/merged_coverage/', 'aggregatedSequenceOutput': '/user/vaishaal/endive-data/EGR1', 'featuresOutput': '/user/vaishaal/featurizedWindows/sequence/full/256-filters/1.0-gamma/8-kmers/replicate-0', 'seed': 0, 'dnaseNarrow': '/data/anv/DREAMDATA/DNASE/peaks/relaxed/', 'approxDim': 256, 'featurizeSample': 1.0, 'alphabetSize': 4, 'readFiltersFromDisk': True}\n"
     ]
    }
   ],
   "source": [
    "# this is where the magic happens\n",
    "results = [] \n",
    "num_filters = 256\n",
    "gamma = 1.0\n",
    "kmer_size=8\n",
    "res = run_kitchensink_featurize_pipeline(EGR1_PATH,\n",
    "                           \"/tmp/filters.csv\", \n",
    "                           logpath, \n",
    "                           seed=0,\n",
    "                           filter_gen_gen=make_gaussian_filter_gen,\n",
    "                           cores_per_executor=cores_per_executor,\n",
    "                           num_filters=num_filters,\n",
    "                           sample=1.0,\n",
    "                           alphabet_size=4,\n",
    "                           kmer_size=kmer_size,\n",
    "                           gamma=gamma,\n",
    "                           executor_mem=executor_mem,\n",
    "                           num_partitions=cores_per_executor*num_executors,\n",
    "                           featuresOutput=\"/user/vaishaal/featurizedWindows/sequence/full/{0}-filters/{1}-gamma/{2}-kmers/replicate-0\".format(num_filters, gamma, kmer_size),\n",
    "                           num_executors=num_executors)\n",
    "results.append(res)"
   ]
  },
  {
   "cell_type": "code",
   "execution_count": 62,
   "metadata": {
    "collapsed": false
   },
   "outputs": [],
   "source": [
    "chromosomes = map(lambda x: \"chr{0}\".format(x+1), range(23))\n",
    "# CHANGE ME BASED ON ENUM + TF\n",
    "egr1_cell_types = string_to_enum_celltypes(['GM12878', 'H1hESC', 'HCT116', 'MCF7'])"
   ]
  },
  {
   "cell_type": "code",
   "execution_count": null,
   "metadata": {
    "collapsed": false
   },
   "outputs": [],
   "source": [
    "results_df = cross_validate(\"/user/vaishaal/featurizedWindows/sequence/tiny/{0}-filters/{1}-gamma/{2}-kmers/replicate-0\".format(num_filters, gamma, kmer_size), \n",
    "                            hdfsclient, \n",
    "                            chromosomes, \n",
    "                            egr1_cell_types,\n",
    "                            numHoldOutChr=1, \n",
    "                            numHoldOutCell=1,\n",
    "                            cores_per_executor = 32,\n",
    "                            num_executors = 14,\n",
    "                            executor_mem=\"150g\",\n",
    "                            num_folds=1, \n",
    "                            negativeSamplingFreqs=[1.0],\n",
    "                            regs=[1e-8])\n",
    "    "
   ]
  },
  {
   "cell_type": "code",
   "execution_count": 68,
   "metadata": {
    "collapsed": false
   },
   "outputs": [],
   "source": [
    "old = results_df"
   ]
  },
  {
   "cell_type": "code",
   "execution_count": 130,
   "metadata": {
    "collapsed": false
   },
   "outputs": [
    {
     "data": {
      "text/html": [
       "<div>\n",
       "<table border=\"1\" class=\"dataframe\">\n",
       "  <thead>\n",
       "    <tr style=\"text-align: right;\">\n",
       "      <th></th>\n",
       "      <th>negativeSamplingFreq</th>\n",
       "      <th>reg</th>\n",
       "      <th>test_celltypes</th>\n",
       "      <th>test_chromosomes</th>\n",
       "      <th>train_auPRC</th>\n",
       "      <th>train_auROC</th>\n",
       "      <th>train_recall_at_05_fdr</th>\n",
       "      <th>train_recall_at_10_fdr</th>\n",
       "      <th>train_recall_at_25_fdr</th>\n",
       "      <th>train_recall_at_50_fdr</th>\n",
       "      <th>val_auPRC</th>\n",
       "      <th>val_auROC</th>\n",
       "      <th>val_recall_at_05_fdr</th>\n",
       "      <th>val_recall_at_10_fdr</th>\n",
       "      <th>val_recall_at_25_fdr</th>\n",
       "      <th>val_recall_at_50_fdr</th>\n",
       "    </tr>\n",
       "  </thead>\n",
       "  <tbody>\n",
       "    <tr>\n",
       "      <th>0</th>\n",
       "      <td>1</td>\n",
       "      <td>1.000000e-08</td>\n",
       "      <td>[3]</td>\n",
       "      <td>[chr12]</td>\n",
       "      <td>0.006357</td>\n",
       "      <td>0.83125</td>\n",
       "      <td>0</td>\n",
       "      <td>0</td>\n",
       "      <td>0</td>\n",
       "      <td>0</td>\n",
       "      <td>0.002056</td>\n",
       "      <td>0.854578</td>\n",
       "      <td>0</td>\n",
       "      <td>0</td>\n",
       "      <td>0</td>\n",
       "      <td>0</td>\n",
       "    </tr>\n",
       "  </tbody>\n",
       "</table>\n",
       "</div>"
      ],
      "text/plain": [
       "   negativeSamplingFreq           reg test_celltypes test_chromosomes  \\\n",
       "0                     1  1.000000e-08            [3]          [chr12]   \n",
       "\n",
       "   train_auPRC  train_auROC  train_recall_at_05_fdr  train_recall_at_10_fdr  \\\n",
       "0     0.006357      0.83125                       0                       0   \n",
       "\n",
       "   train_recall_at_25_fdr  train_recall_at_50_fdr  val_auPRC  val_auROC  \\\n",
       "0                       0                       0   0.002056   0.854578   \n",
       "\n",
       "   val_recall_at_05_fdr  val_recall_at_10_fdr  val_recall_at_25_fdr  \\\n",
       "0                     0                     0                     0   \n",
       "\n",
       "   val_recall_at_50_fdr  \n",
       "0                     0  "
      ]
     },
     "execution_count": 130,
     "metadata": {},
     "output_type": "execute_result"
    }
   ],
   "source": [
    "results_df"
   ]
  },
  {
   "cell_type": "code",
   "execution_count": 129,
   "metadata": {
    "collapsed": false
   },
   "outputs": [
    {
     "name": "stdout",
     "output_type": "stream",
     "text": [
      "POOP\n"
     ]
    }
   ],
   "source": [
    "print(\"POOP\")"
   ]
  },
  {
   "cell_type": "code",
   "execution_count": null,
   "metadata": {
    "collapsed": true
   },
   "outputs": [],
   "source": []
  }
 ],
 "metadata": {
  "anaconda-cloud": {},
  "kernelspec": {
   "display_name": "Python 2",
   "language": "python",
   "name": "python2"
  }
 },
 "nbformat": 4,
 "nbformat_minor": 0
}
