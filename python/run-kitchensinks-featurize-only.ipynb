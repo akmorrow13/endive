{
 "cells": [
  {
   "cell_type": "code",
   "execution_count": 104,
   "metadata": {
    "collapsed": false
   },
   "outputs": [
    {
     "name": "stdout",
     "output_type": "stream",
     "text": [
      "Populating the interactive namespace from numpy and matplotlib\n"
     ]
    }
   ],
   "source": [
    "%pylab inline\n",
    "from snakebite.client import Client\n",
    "import pyaml as yaml\n",
    "import sys\n",
    "import pythonrun\n",
    "reload(pythonrun)\n",
    "import os\n",
    "import seaborn as sns\n",
    "from sklearn import metrics\n",
    "import scala_python_endive_wrapper\n",
    "reload(scala_python_endive_wrapper)\n",
    "from scala_python_endive_wrapper import *\n",
    "import pandas as pd\n",
    "import os\n",
    "from sklearn.cluster import KMeans"
   ]
  },
  {
   "cell_type": "code",
   "execution_count": 82,
   "metadata": {
    "collapsed": false
   },
   "outputs": [],
   "source": [
    "hdfsclient = Client(\"amp-spark-master.amp\", 8020, use_trash=False)\n",
    "notebook_stdout = sys.stdout\n",
    "notebook_stderr = sys.stderr\n",
    "terminal_stdout = open('/dev/stdout', 'w')\n",
    "terminal_stderr = open('/dev/stderr', 'w')\n",
    "logpath = \"/tmp/log\""
   ]
  },
  {
   "cell_type": "code",
   "execution_count": 61,
   "metadata": {
    "collapsed": false
   },
   "outputs": [],
   "source": [
    "executor_mem = \"150g\"\n",
    "cores_per_executor = 32\n",
    "num_executors = 14\n",
    "EGR1_PATH = '/user/vaishaal/endive-data/EGR1'"
   ]
  },
  {
   "cell_type": "code",
   "execution_count": 106,
   "metadata": {
    "collapsed": false
   },
   "outputs": [
    {
     "name": "stdout",
     "output_type": "stream",
     "text": [
      "ALPHABET SIZE  1\n",
      "(1024, 64)\n",
      "{'kmerLength': 64, 'reference': '/home/eecs/akmorrow/ADAM/endive/workfiles/hg19.2bit', 'filtersPath': '/tmp/filters.csv', 'numPartitions': 448, 'dnaseBams': '/data/anv/DREAMDATA/dnase_bams/merged_coverage/', 'aggregatedSequenceOutput': '/user/vaishaal/endive-data/EGR1', 'featuresOutput': '/user/vaishaal/featurizedWindows/sequence-dnase-naive/tiny/1024-filters/0.1-gamma/replicate-0', 'seed': 0, 'dnaseNarrow': '/data/anv/DREAMDATA/DNASE/peaks/relaxed/', 'approxDim': 1024, 'featurizeSample': 0.001, 'alphabetSize': 1, 'readFiltersFromDisk': True}\n"
     ]
    }
   ],
   "source": [
    "# this is where the magic happens\n",
    "results = [] \n",
    "num_filters = 256\n",
    "gamma = 0.1\n",
    "res = run_kitchensink_featurize_pipeline(EGR1_PATH,\n",
    "                           \"/tmp/filters.csv\", \n",
    "                           logpath, \n",
    "                           seed=0,\n",
    "                           filter_gen_gen=make_gaussian_filter_gen,\n",
    "                           cores_per_executor=cores_per_executor,\n",
    "                           num_filters=num_filters,\n",
    "                           sample=0.001,\n",
    "                           alphabet_size=1,\n",
    "                           kmer_size=64,\n",
    "                           gamma=gamma,\n",
    "                           executor_mem=executor_mem,\n",
    "                           num_partitions=cores_per_executor*num_executors,\n",
    "                           featuresOutput=\"/user/vaishaal/featurizedWindows/sequence-dnase-naive/tiny/{0}-filters/{1}-gamma/replicate-0\".format(num_filters, gamma),\n",
    "                           num_executors=num_executors)\n",
    "results.append(res)"
   ]
  },
  {
   "cell_type": "code",
   "execution_count": 62,
   "metadata": {
    "collapsed": false
   },
   "outputs": [],
   "source": [
    "chromosomes = map(lambda x: \"chr{0}\".format(x+1), range(23))\n",
    "# CHANGE ME BASED ON ENUM + TF\n",
    "egr1_cell_types = string_to_enum_celltypes(['GM12878', 'H1hESC', 'HCT116', 'MCF7'])"
   ]
  },
  {
   "cell_type": "code",
   "execution_count": null,
   "metadata": {
    "collapsed": false
   },
   "outputs": [
    {
     "name": "stdout",
     "output_type": "stream",
     "text": [
      "FOLD 0\n",
      "HOLDING OUT CHROMOSOMES ['chr12']\n",
      "HOLDING OUT CELL TYPES [3]\n",
      "RUNING SOLVER WITH REG=0.01\n"
     ]
    }
   ],
   "source": [
    "results_df = cross_validate(\"/user/vaishaal/featurizedWindows/sequence-dnase-naive/tiny/{0}-filters/{1}-gamma/replicate-0\".format(num_filters, gamma), \n",
    "                            hdfsclient, \n",
    "                            chromosomes, \n",
    "                            egr1_cell_types,\n",
    "                            numHoldOutChr=1, \n",
    "                            numHoldOutCell=1,\n",
    "                            cores_per_executor = 32,\n",
    "                            num_executors = 14,\n",
    "                            executor_mem=\"150g\",\n",
    "                            num_folds=1, \n",
    "                            negativeSamplingFreqs=[0.001, 0.0001],\n",
    "                            regs=[1e-2])\n",
    "    "
   ]
  },
  {
   "cell_type": "code",
   "execution_count": 68,
   "metadata": {
    "collapsed": false
   },
   "outputs": [],
   "source": [
    "old = results_df"
   ]
  },
  {
   "cell_type": "code",
   "execution_count": 84,
   "metadata": {
    "collapsed": false
   },
   "outputs": [
    {
     "data": {
      "text/html": [
       "<div>\n",
       "<table border=\"1\" class=\"dataframe\">\n",
       "  <thead>\n",
       "    <tr style=\"text-align: right;\">\n",
       "      <th></th>\n",
       "      <th>negativeSamplingFreq</th>\n",
       "      <th>reg</th>\n",
       "      <th>test_celltypes</th>\n",
       "      <th>test_chromosomes</th>\n",
       "      <th>train_auPRC</th>\n",
       "      <th>train_auROC</th>\n",
       "      <th>train_recall_at_05_fdr</th>\n",
       "      <th>train_recall_at_10_fdr</th>\n",
       "      <th>train_recall_at_25_fdr</th>\n",
       "      <th>train_recall_at_50_fdr</th>\n",
       "      <th>val_auPRC</th>\n",
       "      <th>val_auROC</th>\n",
       "      <th>val_recall_at_05_fdr</th>\n",
       "      <th>val_recall_at_10_fdr</th>\n",
       "      <th>val_recall_at_25_fdr</th>\n",
       "      <th>val_recall_at_50_fdr</th>\n",
       "    </tr>\n",
       "  </thead>\n",
       "  <tbody>\n",
       "    <tr>\n",
       "      <th>0</th>\n",
       "      <td>0.0010</td>\n",
       "      <td>0.01</td>\n",
       "      <td>[3]</td>\n",
       "      <td>[chr12]</td>\n",
       "      <td>0.954726</td>\n",
       "      <td>0.969473</td>\n",
       "      <td>0.736193</td>\n",
       "      <td>0.856400</td>\n",
       "      <td>0.982679</td>\n",
       "      <td>0.998876</td>\n",
       "      <td>0.035594</td>\n",
       "      <td>0.903343</td>\n",
       "      <td>0</td>\n",
       "      <td>0</td>\n",
       "      <td>0</td>\n",
       "      <td>0</td>\n",
       "    </tr>\n",
       "    <tr>\n",
       "      <th>1</th>\n",
       "      <td>0.0001</td>\n",
       "      <td>0.01</td>\n",
       "      <td>[3]</td>\n",
       "      <td>[chr12]</td>\n",
       "      <td>0.993585</td>\n",
       "      <td>0.994914</td>\n",
       "      <td>0.998978</td>\n",
       "      <td>0.999171</td>\n",
       "      <td>0.999695</td>\n",
       "      <td>1.000000</td>\n",
       "      <td>0.017933</td>\n",
       "      <td>0.884693</td>\n",
       "      <td>0</td>\n",
       "      <td>0</td>\n",
       "      <td>0</td>\n",
       "      <td>0</td>\n",
       "    </tr>\n",
       "  </tbody>\n",
       "</table>\n",
       "</div>"
      ],
      "text/plain": [
       "   negativeSamplingFreq   reg test_celltypes test_chromosomes  train_auPRC  \\\n",
       "0                0.0010  0.01            [3]          [chr12]     0.954726   \n",
       "1                0.0001  0.01            [3]          [chr12]     0.993585   \n",
       "\n",
       "   train_auROC  train_recall_at_05_fdr  train_recall_at_10_fdr  \\\n",
       "0     0.969473                0.736193                0.856400   \n",
       "1     0.994914                0.998978                0.999171   \n",
       "\n",
       "   train_recall_at_25_fdr  train_recall_at_50_fdr  val_auPRC  val_auROC  \\\n",
       "0                0.982679                0.998876   0.035594   0.903343   \n",
       "1                0.999695                1.000000   0.017933   0.884693   \n",
       "\n",
       "   val_recall_at_05_fdr  val_recall_at_10_fdr  val_recall_at_25_fdr  \\\n",
       "0                     0                     0                     0   \n",
       "1                     0                     0                     0   \n",
       "\n",
       "   val_recall_at_50_fdr  \n",
       "0                     0  \n",
       "1                     0  "
      ]
     },
     "execution_count": 84,
     "metadata": {},
     "output_type": "execute_result"
    }
   ],
   "source": [
    "results_df"
   ]
  },
  {
   "cell_type": "code",
   "execution_count": null,
   "metadata": {
    "collapsed": true
   },
   "outputs": [],
   "source": []
  }
 ],
 "metadata": {
  "anaconda-cloud": {},
  "kernelspec": {
   "display_name": "Python 2",
   "language": "python",
   "name": "python2"
  },
  "language_info": {
   "codemirror_mode": {
    "name": "ipython",
    "version": 2
   },
   "file_extension": ".py",
   "mimetype": "text/x-python",
   "name": "python",
   "nbconvert_exporter": "python",
   "pygments_lexer": "ipython2",
   "version": "2.7.12"
  }
 },
 "nbformat": 4,
 "nbformat_minor": 0
}
