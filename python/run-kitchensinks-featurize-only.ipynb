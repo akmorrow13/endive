{
 "cells": [
  {
   "cell_type": "code",
   "execution_count": 17,
   "metadata": {
    "collapsed": false
   },
   "outputs": [
    {
     "name": "stdout",
     "output_type": "stream",
     "text": [
      "The autotime extension is already loaded. To reload it, use:\n",
      "  %reload_ext autotime\n",
      "time: 3.82 ms\n"
     ]
    }
   ],
   "source": [
    "# %install_ext https://raw.github.com/cpcloud/ipython-autotime/master/autotime.py\n",
    "%load_ext autotime"
   ]
  },
  {
   "cell_type": "code",
   "execution_count": 208,
   "metadata": {
    "collapsed": false
   },
   "outputs": [
    {
     "name": "stdout",
     "output_type": "stream",
     "text": [
      "Populating the interactive namespace from numpy and matplotlib\n",
      "time: 14.7 ms\n"
     ]
    }
   ],
   "source": [
    "%pylab inline\n",
    "from snakebite.client import Client\n",
    "import pyaml as yaml\n",
    "import sys\n",
    "import pythonrun\n",
    "reload(pythonrun)\n",
    "import os\n",
    "import seaborn as sns\n",
    "from sklearn import metrics\n",
    "import scala_python_endive_wrapper\n",
    "reload(scala_python_endive_wrapper)\n",
    "from scala_python_endive_wrapper import *\n",
    "import pandas as pd\n",
    "import os"
   ]
  },
  {
   "cell_type": "code",
   "execution_count": 4,
   "metadata": {
    "collapsed": false
   },
   "outputs": [
    {
     "name": "stdout",
     "output_type": "stream",
     "text": [
      "time: 7.85 ms\n"
     ]
    }
   ],
   "source": [
    "hdfsclient = Client(\"amp-spark-master.amp\", 8020, use_trash=False)\n",
    "notebook_stdout = sys.stdout\n",
    "notebook_stderr = sys.stderr\n",
    "terminal_stdout = open('/dev/stdout', 'w')\n",
    "terminal_stderr = open('/dev/stderr', 'w')\n",
    "logpath = \"/tmp/log\""
   ]
  },
  {
   "cell_type": "code",
   "execution_count": 135,
   "metadata": {
    "collapsed": false
   },
   "outputs": [
    {
     "name": "stdout",
     "output_type": "stream",
     "text": [
      "time: 29 ms\n"
     ]
    }
   ],
   "source": [
    "def pr_result(y_train, y_test, y_train_pred, y_test_pred):\n",
    "    fpr, tpr, thresh = metrics.precision_recall_curve(y_train, y_train_pred)\n",
    "    train_auc = metrics.average_precision_score(y_train, y_train_pred)\n",
    "    plot(fpr, tpr, label=\"train\")\n",
    "    fpr, tpr, thresh = metrics.precision_recall_curve(y_test, y_test_pred)\n",
    "    test_auc = metrics.average_precision_score(y_test, y_test_pred)\n",
    "    plot(fpr, tpr, label=\"test\")\n",
    "    plt.legend(loc=4)\n",
    "    plt.figure()\n",
    "    print(\"Train PR AUC {0}\".format(train_auc))\n",
    "    print(\"Test PR AUC {0}\".format(test_auc))\n",
    "    \n",
    "def roc_result(y_train, y_test, y_train_pred, y_test_pred):\n",
    "    fpr, tpr, thresh = metrics.roc_curve(y_train, y_train_pred)\n",
    "    train_auc = metrics.roc_auc_score(y_train, y_train_pred)\n",
    "    plot(fpr, tpr, label=\"train\")\n",
    "    fpr, tpr, thresh = metrics.roc_curve(y_test, y_test_pred)\n",
    "    test_auc = metrics.roc_auc_score(y_test, y_test_pred)\n",
    "    plot(fpr, tpr, label=\"test\")\n",
    "    plt.legend(loc=4)\n",
    "    plt.figure()\n",
    "    print(\"Train ROC AUC {0}\".format(train_auc))\n",
    "    print(\"Test ROC AUC {0}\".format(test_auc))"
   ]
  },
  {
   "cell_type": "code",
   "execution_count": 5,
   "metadata": {
    "collapsed": false
   },
   "outputs": [
    {
     "name": "stdout",
     "output_type": "stream",
     "text": [
      "time: 2.75 ms\n"
     ]
    }
   ],
   "source": [
    "\n",
    "executor_mem = \"200g\"\n",
    "cores_per_executor = 24\n",
    "num_executors = 14"
   ]
  },
  {
   "cell_type": "code",
   "execution_count": 9,
   "metadata": {
    "collapsed": false
   },
   "outputs": [
    {
     "name": "stdout",
     "output_type": "stream",
     "text": [
      "time: 3.97 ms\n"
     ]
    }
   ],
   "source": [
    "# CHANGE ME\n",
    "dataset_creation_config = \\\n",
    "{\n",
    "    \"labels\": \"/user/vaishaal/endive-data/ChIPseq/labels/EGR1.train.labels.tsv\", \\\n",
    "    \"reference\": \"/home/eecs/akmorrow/ADAM/endive/workfiles/hg19.2bit\", \\\n",
    "    \"dnase\": \"/user/vaishaal/endive-data/DNASE/peaks/relaxed/\", \\\n",
    "    \"aggregatedSequenceOutput\": \"/user/vaishaal/endive-data/aggregated/EGR1/\"\n",
    "}\n",
    "\n",
    "EGR1_PATH = \"/user/vaishaal/endive-data/aggregated/EGR1/EGR1\"\n"
   ]
  },
  {
   "cell_type": "code",
   "execution_count": 142,
   "metadata": {
    "collapsed": false
   },
   "outputs": [
    {
     "name": "stdout",
     "output_type": "stream",
     "text": [
      "(256, 32)\n",
      "(256, 32)\n",
      "time: 5min 9s\n"
     ]
    }
   ],
   "source": [
    "# this is where the magic happens\n",
    "results = [] \n",
    "for seed in range(2):\n",
    "        res = run_kitchensink_featurize_pipeline(EGR1_PATH,\n",
    "                           \"/tmp/filters.csv\", \n",
    "                           logpath, \n",
    "                           seed=0,\n",
    "                           filter_gen_gen=make_gaussian_filter_gen,\n",
    "                           cores_per_executor=cores_per_executor,\n",
    "                           sample=0.001,\n",
    "                           executor_mem=executor_mem,\n",
    "                           featuresOutput=\"/user/vaishaal/tmp/featurizedWindows/tiny/replicate-{0}/\".format(seed),\n",
    "                           num_executors=num_executors)\n",
    "        results.append(res)\n",
    " \n",
    "        \n",
    "  "
   ]
  },
  {
   "cell_type": "code",
   "execution_count": 174,
   "metadata": {
    "collapsed": false
   },
   "outputs": [
    {
     "name": "stdout",
     "output_type": "stream",
     "text": [
      "\n",
      "/user/vaishaal/tmp/valPreds_chr11_8\n",
      "\n",
      "time: 52.1 s\n"
     ]
    }
   ],
   "source": [
    "res = run_solver_pipeline(\"/user/vaishaal/tmp/featurizedWindows/tiny/replicate-0\",\n",
    "                           logpath, \n",
    "                           hdfsclient,\n",
    "                           executor_mem=executor_mem,\n",
    "                           num_executors=num_executors,\n",
    "                           valCellTypes=[8],\n",
    "                           valChromosomes=[\"chr10\"],\n",
    "                           valDuringSolve=True)"
   ]
  },
  {
   "cell_type": "code",
   "execution_count": 209,
   "metadata": {
    "collapsed": false
   },
   "outputs": [
    {
     "name": "stdout",
     "output_type": "stream",
     "text": [
      "\n",
      "\n",
      "time: 42.4 s\n"
     ]
    }
   ],
   "source": [
    "test_preds = run_test_pipeline(\"/user/vaishaal/tmp/featurizedWindows/tiny/replicate-1\",\n",
    "                                logpath, \n",
    "                                hdfsclient,\n",
    "                                delete_predictions_from_hdfs=True)"
   ]
  },
  {
   "cell_type": "code",
   "execution_count": 214,
   "metadata": {
    "collapsed": false
   },
   "outputs": [
    {
     "data": {
      "text/plain": [
       "array([['chr10', '1000000', '100004100', 'GM12878'],\n",
       "       ['chr10', '100003900', '100005400', 'GM12878'],\n",
       "       ['chr10', '1000050', '100005900', 'GM12878'],\n",
       "       ..., \n",
       "       ['chrX', '99996000', '99996350', 'MCF7'],\n",
       "       ['chrX', '99996150', '9999650', 'MCF7'],\n",
       "       ['chrX', '99998050', '99998250', 'MCF7']], \n",
       "      dtype='|S9')"
      ]
     },
     "execution_count": 214,
     "metadata": {},
     "output_type": "execute_result"
    },
    {
     "name": "stdout",
     "output_type": "stream",
     "text": [
      "time: 234 ms\n"
     ]
    }
   ],
   "source": [
    "np.sort(test_preds[1], axis=0)"
   ]
  },
  {
   "cell_type": "markdown",
   "metadata": {},
   "source": [
    "#### ROC Metrics"
   ]
  },
  {
   "cell_type": "code",
   "execution_count": 176,
   "metadata": {
    "collapsed": false
   },
   "outputs": [
    {
     "name": "stdout",
     "output_type": "stream",
     "text": [
      "Train PR AUC 0.0986490822579\n",
      "Test PR AUC 0.0893466132806\n",
      "Train ROC AUC 0.884089628045\n",
      "Test ROC AUC 0.863655048408\n"
     ]
    },
    {
     "data": {
      "image/png": "[encoded data removed]",
      "text/plain": [
       "<matplotlib.figure.Figure at 0x7ff839352e90>"
      ]
     },
     "metadata": {},
     "output_type": "display_data"
    },
    {
     "data": {
      "image/png": "[encoded data removed]",
      "text/plain": [
       "<matplotlib.figure.Figure at 0x7ff83b3ec910>"
      ]
     },
     "metadata": {},
     "output_type": "display_data"
    },
    {
     "data": {
      "text/plain": [
       "<matplotlib.figure.Figure at 0x7ff839713350>"
      ]
     },
     "metadata": {},
     "output_type": "display_data"
    },
    {
     "name": "stdout",
     "output_type": "stream",
     "text": [
      "time: 912 ms\n"
     ]
    }
   ],
   "source": [
    "sys.stdout = notebook_stdout\n",
    "sys.stderr = notebook_stderr\n",
    "train_preds, val_preds = res\n",
    "y_train = train_preds[:, 0]\n",
    "y_train_pred = train_preds[:, 1]\n",
    "\n",
    "y_test_full = test_preds[:, 0]\n",
    "y_test_pred_full = test_preds[:, 1]\n",
    "y_test = y_test_full[np.where(y_test_full >= 0)]\n",
    "y_test_pred = y_test_pred_full[np.where(y_test_full >= 0)]\n",
    "\n",
    "\n",
    "pr_result(y_train, y_test, y_train_pred, y_test_pred)\n",
    "roc_result(y_train, y_test, y_train_pred, y_test_pred)"
   ]
  }
 ],
 "metadata": {
  "kernelspec": {
   "display_name": "Python 2",
   "language": "python",
   "name": "python2"
  },
  "language_info": {
   "codemirror_mode": {
    "name": "ipython",
    "version": 2
   },
   "file_extension": ".py",
   "mimetype": "text/x-python",
   "name": "python",
   "nbconvert_exporter": "python",
   "pygments_lexer": "ipython2",
   "version": "2.7.12"
  }
 },
 "nbformat": 4,
 "nbformat_minor": 0
}
