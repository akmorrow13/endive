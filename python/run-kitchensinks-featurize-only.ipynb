{
 "cells": [
  {
   "cell_type": "code",
   "execution_count": 14,
   "metadata": {
    "collapsed": false
   },
   "outputs": [
    {
     "name": "stdout",
     "output_type": "stream",
     "text": [
      "Populating the interactive namespace from numpy and matplotlib\n"
     ]
    },
    {
     "name": "stderr",
     "output_type": "stream",
     "text": [
      "/home/eecs/akmorrow/anaconda2/lib/python2.7/site-packages/IPython/core/magics/pylab.py:161: UserWarning: pylab import has clobbered these variables: ['power', 'gamma', 'random', 'fft', 'linalg', 'info']\n",
      "`%matplotlib` prevents importing * from pylab and numpy\n",
      "  \"\\n`%matplotlib` prevents importing * from pylab and numpy\"\n"
     ]
    }
   ],
   "source": [
    "%pylab inline\n",
    "from snakebite.client import Client\n",
    "import pyaml as yaml\n",
    "import sys\n",
    "import pythonrun\n",
    "reload(pythonrun)\n",
    "import os\n",
    "import seaborn as sns\n",
    "from sklearn import metrics\n",
    "import scala_python_endive_wrapper\n",
    "reload(scala_python_endive_wrapper)\n",
    "from scala_python_endive_wrapper import *\n",
    "import pandas as pd\n",
    "import os\n",
    "from sklearn.cluster import KMeans"
   ]
  },
  {
   "cell_type": "code",
   "execution_count": 10,
   "metadata": {
    "collapsed": false
   },
   "outputs": [],
   "source": [
    "hdfsclient = Client(\"amp-bdg.master.amplab.net\", 8020, use_trash=False)\n",
    "notebook_stdout = sys.stdout\n",
    "notebook_stderr = sys.stderr\n",
    "terminal_stdout = open('/dev/stdout', 'w')\n",
    "terminal_stderr = open('/dev/stderr', 'w')\n",
    "logpath = \"/tmp/log\""
   ]
  },
  {
   "cell_type": "code",
   "execution_count": 11,
   "metadata": {
    "collapsed": false
   },
   "outputs": [],
   "source": [
    "executor_mem = \"200g\"\n",
    "cores_per_executor = 16\n",
    "num_executors = 8\n",
    "EGR1_PATH = 'hdfs://amp-spark-master.amp:8020/user/vaishaal/endive-data/EGR1'"
   ]
  },
  {
   "cell_type": "code",
   "execution_count": 12,
   "metadata": {
    "collapsed": false
   },
   "outputs": [],
   "source": [
    "# this is where the magic happens\n",
    "results = [] \n",
    "num_filters = 256\n",
    "gammas = [0.1]\n",
    "dnase_gammas = [0.1]\n",
    "kmer_size = 8\n",
    "dnase_kmer_sizes = [8]"
   ]
  },
  {
   "cell_type": "code",
   "execution_count": null,
   "metadata": {
    "collapsed": false
   },
   "outputs": [
    {
     "name": "stdout",
     "output_type": "stream",
     "text": [
      "{'kmerLength': 8, 'reference': '/home/eecs/akmorrow/ADAM/endive/workfiles/hg19.2bit', 'numPartitions': 2000, 'dnaseBams': '/data/anv/DREAMDATA/dnase_bams/merged_coverage/', 'saveTestPredictions': 'predictions/', 'aggregatedSequenceOutput': 'hdfs://amp-spark-master.amp:8020/user/vaishaal/endive-data/EGR1', 'featuresOutput': '/user/akmorrow/featurizedWindows/sequence/small/256-filters/0.1-gamma/8-kmers/replicate-0', 'seed': 0, 'dnaseNarrow': '/data/anv/DREAMDATA/DNASE/peaks/relaxed/', 'approxDim': 256, 'featurizeSample': 0.001, 'alphabetSize': 4, 'readFiltersFromDisk': True}\n"
     ]
    }
   ],
   "source": [
    "chromosomes = map(lambda x: \"chr{0}\".format(x+1), range(23))\n",
    "# CHANGE ME BASED ON ENUM + TF\n",
    "egr1_cell_types = string_to_enum_celltypes(['GM12878', 'H1hESC', 'HCT116', 'MCF7'])\n",
    "results_dfs = []\n",
    "for gamma in gammas:\n",
    "    for dnase_gamma in dnase_gammas:\n",
    "        for dnase_kmer_size in dnase_kmer_sizes:\n",
    "            feat_out_loc = \"/user/akmorrow/featurizedWindows/sequence/small/{0}-filters/{1}-gamma/{3}-kmers/replicate-0\"\\\n",
    "              .format(num_filters, gamma, dnase_gamma, kmer_size, dnase_kmer_size)\n",
    "            res = run_kitchensink_featurize_pipeline(EGR1_PATH,\n",
    "                           \"/tmp/filters.csv\", \n",
    "                           logpath, \n",
    "                           seed=0,\n",
    "                           cores_per_executor=cores_per_executor,\n",
    "                           num_filters=num_filters,\n",
    "                           sample=0.001,\n",
    "                           alphabet_size=4,\n",
    "                           kmer_size=kmer_size,\n",
    "                           gamma=gamma,\n",
    "                           executor_mem=executor_mem,\n",
    "                           num_partitions=cores_per_executor*num_executors,\n",
    "                           featuresOutput=feat_out_loc,\n",
    "                           num_executors=num_executors)\n",
    "#             meta = {}\n",
    "#             meta['dnase_kmer_size'] = dnase_kmer_size\n",
    "#             meta['dnase_gamma'] = dnase_gamma\n",
    "#             meta['gamma'] = gamma\n",
    "#             results_df = cross_validate(feat_out_loc, \n",
    "#                             hdfsclient, \n",
    "#                             chromosomes, \n",
    "#                             egr1_cell_types,\n",
    "#                             numHoldOutChr=1, \n",
    "#                             numHoldOutCell=1,\n",
    "#                             cores_per_executor = 32,\n",
    "#                             num_executors = 14,\n",
    "#                             executor_mem=\"150g\",\n",
    "#                             num_folds=1, \n",
    "#                             negativeSamplingFreqs=[0.1],\n",
    "#                             regs=[1e-8],\n",
    "#                             other_meta=meta)\n",
    "#             print(results_df)\n",
    "#             results_dfs.append(results_df)\n",
    "            \n",
    "            \n",
    "\n",
    "\n",
    "    \n"
   ]
  },
  {
   "cell_type": "code",
   "execution_count": 75,
   "metadata": {
    "collapsed": false
   },
   "outputs": [
    {
     "data": {
      "text/html": [
       "<div>\n",
       "<table border=\"1\" class=\"dataframe\">\n",
       "  <thead>\n",
       "    <tr style=\"text-align: right;\">\n",
       "      <th></th>\n",
       "      <th>dnase_gamma</th>\n",
       "      <th>dnase_kmer_size</th>\n",
       "      <th>gamma</th>\n",
       "      <th>negativeSamplingFreq</th>\n",
       "      <th>reg</th>\n",
       "      <th>test_celltypes</th>\n",
       "      <th>test_chromosomes</th>\n",
       "      <th>train_auPRC</th>\n",
       "      <th>train_auROC</th>\n",
       "      <th>train_recall_at_05_fdr</th>\n",
       "      <th>train_recall_at_10_fdr</th>\n",
       "      <th>train_recall_at_25_fdr</th>\n",
       "      <th>train_recall_at_50_fdr</th>\n",
       "      <th>val_auPRC</th>\n",
       "      <th>val_auROC</th>\n",
       "      <th>val_recall_at_05_fdr</th>\n",
       "      <th>val_recall_at_10_fdr</th>\n",
       "      <th>val_recall_at_25_fdr</th>\n",
       "      <th>val_recall_at_50_fdr</th>\n",
       "    </tr>\n",
       "  </thead>\n",
       "  <tbody>\n",
       "    <tr>\n",
       "      <th>0</th>\n",
       "      <td>0.1</td>\n",
       "      <td>8</td>\n",
       "      <td>0.1</td>\n",
       "      <td>1</td>\n",
       "      <td>1.000000e-08</td>\n",
       "      <td>[3]</td>\n",
       "      <td>[chr12]</td>\n",
       "      <td>0.286507</td>\n",
       "      <td>0.940043</td>\n",
       "      <td>0.081238</td>\n",
       "      <td>0.104449</td>\n",
       "      <td>0.145390</td>\n",
       "      <td>0.221470</td>\n",
       "      <td>0.056017</td>\n",
       "      <td>0.900088</td>\n",
       "      <td>0.035714</td>\n",
       "      <td>0.035714</td>\n",
       "      <td>0.035714</td>\n",
       "      <td>0.035714</td>\n",
       "    </tr>\n",
       "    <tr>\n",
       "      <th>1</th>\n",
       "      <td>0.1</td>\n",
       "      <td>8</td>\n",
       "      <td>0.1</td>\n",
       "      <td>1</td>\n",
       "      <td>1.000000e-01</td>\n",
       "      <td>[3]</td>\n",
       "      <td>[chr12]</td>\n",
       "      <td>0.283020</td>\n",
       "      <td>0.941194</td>\n",
       "      <td>0.076725</td>\n",
       "      <td>0.101547</td>\n",
       "      <td>0.142166</td>\n",
       "      <td>0.215023</td>\n",
       "      <td>0.056503</td>\n",
       "      <td>0.899537</td>\n",
       "      <td>0.035714</td>\n",
       "      <td>0.035714</td>\n",
       "      <td>0.035714</td>\n",
       "      <td>0.035714</td>\n",
       "    </tr>\n",
       "  </tbody>\n",
       "</table>\n",
       "</div>"
      ],
      "text/plain": [
       "   dnase_gamma  dnase_kmer_size  gamma  negativeSamplingFreq           reg  \\\n",
       "0          0.1                8    0.1                     1  1.000000e-08   \n",
       "1          0.1                8    0.1                     1  1.000000e-01   \n",
       "\n",
       "  test_celltypes test_chromosomes  train_auPRC  train_auROC  \\\n",
       "0            [3]          [chr12]     0.286507     0.940043   \n",
       "1            [3]          [chr12]     0.283020     0.941194   \n",
       "\n",
       "   train_recall_at_05_fdr  train_recall_at_10_fdr  train_recall_at_25_fdr  \\\n",
       "0                0.081238                0.104449                0.145390   \n",
       "1                0.076725                0.101547                0.142166   \n",
       "\n",
       "   train_recall_at_50_fdr  val_auPRC  val_auROC  val_recall_at_05_fdr  \\\n",
       "0                0.221470   0.056017   0.900088              0.035714   \n",
       "1                0.215023   0.056503   0.899537              0.035714   \n",
       "\n",
       "   val_recall_at_10_fdr  val_recall_at_25_fdr  val_recall_at_50_fdr  \n",
       "0              0.035714              0.035714              0.035714  \n",
       "1              0.035714              0.035714              0.035714  "
      ]
     },
     "execution_count": 75,
     "metadata": {},
     "output_type": "execute_result"
    }
   ],
   "source": [
    "pd.concat(results_dfs)"
   ]
  },
  {
   "cell_type": "code",
   "execution_count": null,
   "metadata": {
    "collapsed": false
   },
   "outputs": [
    {
     "name": "stdout",
     "output_type": "stream",
     "text": [
      "/user/vaishaal/featurizedWindows/sequence/small/256-filters/0.1-gamma/0.1-dnase-gamma/8-kmers/8-dnase-kmers/replicate-0\n",
      "FOLD 0\n",
      "HOLDING OUT CHROMOSOMES ['chr12']\n",
      "HOLDING OUT CELL TYPES [3]\n",
      "RUNING SOLVER WITH REG=1e-08\n"
     ]
    }
   ],
   "source": [
    "print(feat_out_loc)\n",
    "results_df = cross_validate(feat_out_loc, \n",
    "                            hdfsclient, \n",
    "                            chromosomes, \n",
    "                            egr1_cell_types,\n",
    "                            numHoldOutChr=1, \n",
    "                            numHoldOutCell=1,\n",
    "                            cores_per_executor = 32,\n",
    "                            num_executors = 14,\n",
    "                            executor_mem=\"150g\",\n",
    "                            num_folds=1, \n",
    "                            negativeSamplingFreqs=[0.001],\n",
    "                            regs=[1e-8])\n",
    "    "
   ]
  },
  {
   "cell_type": "code",
   "execution_count": null,
   "metadata": {
    "collapsed": false
   },
   "outputs": [],
   "source": [
    "results_df\n"
   ]
  },
  {
   "cell_type": "code",
   "execution_count": 67,
   "metadata": {
    "collapsed": false
   },
   "outputs": [
    {
     "data": {
      "text/plain": [
       "0.88036847526310447"
      ]
     },
     "execution_count": 67,
     "metadata": {},
     "output_type": "execute_result"
    }
   ],
   "source": []
  },
  {
   "cell_type": "code",
   "execution_count": 35,
   "metadata": {
    "collapsed": false
   },
   "outputs": [
    {
     "data": {
      "text/plain": [
       "'/user/vaishaal/featurizedWindows/sequence/tiny/256-filters/1.0-gamma/1.0-dnase-gamma/8-kmers/100-dnase-kmers/replicate-0'"
      ]
     },
     "execution_count": 35,
     "metadata": {},
     "output_type": "execute_result"
    }
   ],
   "source": [
    "feat_out_loc"
   ]
  },
  {
   "cell_type": "code",
   "execution_count": 61,
   "metadata": {
    "collapsed": false
   },
   "outputs": [],
   "source": [
    "old_result_dfs = pd.concat(results_dfs)"
   ]
  },
  {
   "cell_type": "code",
   "execution_count": null,
   "metadata": {
    "collapsed": false
   },
   "outputs": [],
   "source": [
    "\n"
   ]
  },
  {
   "cell_type": "code",
   "execution_count": null,
   "metadata": {
    "collapsed": true
   },
   "outputs": [],
   "source": []
  },
  {
   "cell_type": "code",
   "execution_count": null,
   "metadata": {
    "collapsed": true
   },
   "outputs": [],
   "source": []
  }
 ],
 "metadata": {
  "anaconda-cloud": {},
  "kernelspec": {
   "display_name": "Python [default]",
   "language": "python",
   "name": "python2"
  },
  "language_info": {
   "codemirror_mode": {
    "name": "ipython",
    "version": 2
   },
   "file_extension": ".py",
   "mimetype": "text/x-python",
   "name": "python",
   "nbconvert_exporter": "python",
   "pygments_lexer": "ipython2",
   "version": "2.7.13"
  }
 },
 "nbformat": 4,
 "nbformat_minor": 0
}
