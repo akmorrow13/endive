{
 "cells": [
  {
   "cell_type": "code",
   "execution_count": 11,
   "metadata": {
    "collapsed": false
   },
   "outputs": [
    {
     "name": "stdout",
     "output_type": "stream",
     "text": [
      "Populating the interactive namespace from numpy and matplotlib\n"
     ]
    }
   ],
   "source": [
    "%pylab inline\n",
    "from snakebite.client import Client\n",
    "import pyaml as yaml\n",
    "import sys\n",
    "import pythonrun\n",
    "import os\n",
    "import seaborn as sns\n",
    "from sklearn import metrics\n",
    "import scala_python_endive_wrapper\n",
    "reload(scala_python_endive_wrapper)\n",
    "from scala_python_endive_wrapper import *\n",
    "import pandas as pd\n",
    "import os"
   ]
  },
  {
   "cell_type": "code",
   "execution_count": 4,
   "metadata": {
    "collapsed": true
   },
   "outputs": [],
   "source": [
    "hdfsclient = Client(\"amp-bdg-master.amplab.net\", 8020, use_trash=False)\n",
    "notebook_stdout = sys.stdout\n",
    "notebook_stderr = sys.stderr\n",
    "terminal_stdout = open('/dev/stdout', 'w')\n",
    "terminal_stderr = open('/dev/stderr', 'w')\n",
    "logpath = \"/home/eecs/akmorrow/ADAM/endive\""
   ]
  },
  {
   "cell_type": "code",
   "execution_count": 5,
   "metadata": {
    "collapsed": true
   },
   "outputs": [],
   "source": [
    "executor_mem = \"100g\"\n",
    "cores_per_executor = 8\n",
    "num_executors = 50\n",
    "EGR1_PATH = \"hdfs://amp-spark-master.amp:8020/user/akmorrow/DREAMDATA/aggregated/icml_tfs/EGR1\"\n",
    "\n",
    "featurized = \"hdfs://amp-spark-master.amp:8020/user/akmorrow/featurized/wavelets/EGR1_dnase_all_dim_256\""
   ]
  },
  {
   "cell_type": "code",
   "execution_count": 13,
   "metadata": {
    "collapsed": false
   },
   "outputs": [
    {
     "name": "stdout",
     "output_type": "stream",
     "text": [
      "{'kmerLength': 8, 'reference': '/home/eecs/akmorrow/ADAM/endive/workfiles/hg19.2bit', 'numPartitions': 2000, 'dnaseBams': '/data/anv/DREAMDATA/dnase_bams/merged_coverage/', 'saveTestPredictions': 'predictions/', 'aggregatedSequenceOutput': 'hdfs://amp-spark-master.amp:8020/user/akmorrow/DREAMDATA/aggregated/icml_tfs/EGR1', 'featuresOutput': '/data/anv/featurized/EGR1_dnase', 'seed': 0, 'dnaseNarrow': '/data/anv/DREAMDATA/DNASE/peaks/relaxed/', 'approxDim': 512, 'featurizeSample': 1, 'alphabetSize': 4, 'readFiltersFromDisk': False}\n"
     ]
    }
   ],
   "source": [
    "# this is where the magic happens\n",
    "results = [] \n",
    "featureOutput = \"/data/anv/featurized/EGR1_small\"\n",
    "res = run_kitchensink_featurize_pipeline(EGR1_PATH,\n",
    "                           \"fakePath\",\n",
    "                           logpath,\n",
    "                           featureOutput,\n",
    "                           seed=0,\n",
    "                           cores_per_executor=cores_per_executor,\n",
    "                           sample=1,\n",
    "                           num_filters=512,\n",
    "                           executor_mem=executor_mem,\n",
    "                           num_partitions=cores_per_executor*num_executors,\n",
    "                           num_executors=num_executors)\n",
    "results.append(res)"
   ]
  },
  {
   "cell_type": "code",
   "execution_count": 139,
   "metadata": {
    "collapsed": true
   },
   "outputs": [],
   "source": [
    "# chromosomes = map(lambda x: \"chr{0}\".format(x+1), range(23))\n",
    "# chromosomes.append(\"chrX\")\n",
    "chromosomes=[\"chr15\"]\n",
    "# CHANGE ME BASED ON ENUM + TF\n",
    "egr1_cell_types = string_to_enum_celltypes(['GM12878', 'H1hESC', 'HCT116', 'MCF7'])"
   ]
  },
  {
   "cell_type": "code",
   "execution_count": null,
   "metadata": {
    "collapsed": true
   },
   "outputs": [],
   "source": [
    "results_df = cross_validate(featurized, \n",
    "                            hdfsclient, \n",
    "                            chromosomes, \n",
    "                            egr1_cell_types,\n",
    "                            logpath,\n",
    "                            numHoldOutChr=1, \n",
    "                            numHoldOutCell=1,\n",
    "                            num_folds=1, \n",
    "                            negativeSamplingFreqs=[0.001],\n",
    "                            mixtureWeights=[-1.0],\n",
    "                            cores_per_executor=8,\n",
    "                            num_executors=32,\n",
    "                            regs=[1e-2])"
   ]
  },
  {
   "cell_type": "code",
   "execution_count": null,
   "metadata": {
    "collapsed": false
   },
   "outputs": [
    {
     "name": "stdout",
     "output_type": "stream",
     "text": [
      "FOLD 0\n",
      "HOLDING OUT CHROMOSOMES ['chr15']\n",
      "HOLDING OUT CELL TYPES [3]\n",
      "RUNING SOLVER WITH REG=0.01\n",
      "AND MIXTUREWEIGHT=-1.0\n"
     ]
    }
   ],
   "source": [
    "featuresPath = \"/data/anv/featurized/EGR1_small\"\n",
    "predictionsOutput = \"/data/anv/ROC/\"\n",
    "modelPath = \"\"\n",
    "valCellTypes = string_to_enum_celltypes(['GM12878'])\n",
    "results_df =run_solver_pipeline(featuresPath,\n",
    "               logpath,\n",
    "               hdfsclient,\n",
    "               predictionsOutput, \n",
    "               modelPath,\n",
    "               cores_per_executor=CORES_PER_EXECUTOR,\n",
    "               num_executors=NUM_EXECUTORS,\n",
    "               executor_mem=EXECUTOR_MEM,\n",
    "               use_yarn=True,\n",
    "               valChromosomes=chromosomess,\n",
    "               valCellTypes=valCellTypes,\n",
    "               reg=0.1,\n",
    "               negativeSamplingFreq=1.0,\n",
    "               predictedOutput=None,         \n",
    "               valDuringSolve=True,\n",
    "               base_config=BASE_KERNEL_PIPELINE_CONFIG)"
   ]
  },
  {
   "cell_type": "code",
   "execution_count": null,
   "metadata": {
    "collapsed": false
   },
   "outputs": [],
   "source": [
    "results_df"
   ]
  },
  {
   "cell_type": "code",
   "execution_count": null,
   "metadata": {
    "collapsed": true
   },
   "outputs": [],
   "source": []
  }
 ],
 "metadata": {
  "anaconda-cloud": {},
  "kernelspec": {
   "display_name": "Python [default]",
   "language": "python",
   "name": "python2"
  },
  "language_info": {
   "codemirror_mode": {
    "name": "ipython",
    "version": 2
   },
   "file_extension": ".py",
   "mimetype": "text/x-python",
   "name": "python",
   "nbconvert_exporter": "python",
   "pygments_lexer": "ipython2",
   "version": "2.7.13"
  }
 },
 "nbformat": 4,
 "nbformat_minor": 0
}
