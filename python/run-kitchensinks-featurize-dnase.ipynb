{
 "cells": [
  {
   "cell_type": "code",
   "execution_count": 21,
   "metadata": {
    "collapsed": false
   },
   "outputs": [
    {
     "name": "stdout",
     "output_type": "stream",
     "text": [
      "Populating the interactive namespace from numpy and matplotlib\n"
     ]
    }
   ],
   "source": [
    "%pylab inline\n",
    "from snakebite.client import Client\n",
    "import pyaml as yaml\n",
    "import sys\n",
    "import pythonrun\n",
    "reload(pythonrun)\n",
    "import os\n",
    "import seaborn as sns\n",
    "from sklearn import metrics\n",
    "import scala_python_endive_wrapper\n",
    "reload(scala_python_endive_wrapper)\n",
    "from scala_python_endive_wrapper import *\n",
    "import pandas as pd\n",
    "import os"
   ]
  },
  {
   "cell_type": "code",
   "execution_count": 15,
   "metadata": {
    "collapsed": false
   },
   "outputs": [],
   "source": [
    "hdfsclient = Client(\"amp-bdg-master.amplab.net\", 8020, use_trash=False)\n",
    "notebook_stdout = sys.stdout\n",
    "notebook_stderr = sys.stderr\n",
    "terminal_stdout = open('/dev/stdout', 'w')\n",
    "terminal_stderr = open('/dev/stderr', 'w')\n",
    "logpath = \"/home/eecs/akmorrow/ADAM/endive\""
   ]
  },
  {
   "cell_type": "code",
   "execution_count": 3,
   "metadata": {
    "collapsed": false
   },
   "outputs": [],
   "source": [
    "executor_mem = \"100g\"\n",
    "cores_per_executor = 8\n",
    "num_executors = 50\n",
    "EGR1_PATH = \"/data/anv/DREAMDATA/aggregated/full_dnase/EGR1\""
   ]
  },
  {
   "cell_type": "code",
   "execution_count": null,
   "metadata": {
    "collapsed": false
   },
   "outputs": [
    {
     "name": "stdout",
     "output_type": "stream",
     "text": [
      "net.akmorrow13.endive.pipelines.DnaseKernelPipeline\n",
      "/home/eecs/akmorrow/ADAM/endive\n",
      "../target/scala-2.10/endive-assembly-0.1.jar\n",
      "{'kmerLength': 8, 'reference': '/home/eecs/akmorrow/ADAM/endive/workfiles/hg19.2bit', 'numPartitions': 400, 'dnaseBams': '/data/anv/DREAMDATA/dnase_bams/merged_coverage/', 'aggregatedSequenceOutput': '/data/anv/DREAMDATA/aggregated/full_dnase/EGR1', 'featuresOutput': '/data/anv/featurized/EGR1_dnase', 'seed': 0, 'dnaseNarrow': '/data/anv/DREAMDATA/DNASE/peaks/relaxed/', 'approxDim': 256, 'featurizeSample': 0.01, 'readFiltersFromDisk': True}\n",
      "{'SPARK_EXECUTOR_CORES': '8', 'OMP_NUM_THREADS': '1', 'KEYSTONE_MEM': '100g', 'SPARK_NUM_EXECUTORS': '50'}\n"
     ]
    }
   ],
   "source": [
    "# this is where the magic happens\n",
    "results = [] \n",
    "res = run_kitchensink_featurize_pipeline(EGR1_PATH,\n",
    "                           \"fakePath\",\n",
    "                           logpath, \n",
    "                           seed=0,\n",
    "                           cores_per_executor=cores_per_executor,\n",
    "                           sample=0.01,\n",
    "                           executor_mem=executor_mem,\n",
    "                           num_partitions=cores_per_executor*num_executors,\n",
    "                           featuresOutput=\"/data/anv/featurized/EGR1_dnase\",\n",
    "                           num_executors=num_executors)\n",
    "results.append(res)"
   ]
  },
  {
   "cell_type": "code",
   "execution_count": 7,
   "metadata": {
    "collapsed": false
   },
   "outputs": [],
   "source": [
    "chromosomes = map(lambda x: \"chr{0}\".format(x+1), range(23))\n",
    "chromosomes.append(\"chrX\")\n",
    "# CHANGE ME BASED ON ENUM + TF\n",
    "egr1_cell_types = string_to_enum_celltypes(['GM12878', 'H1hESC', 'HCT116', 'MCF7'])"
   ]
  },
  {
   "cell_type": "code",
   "execution_count": 24,
   "metadata": {
    "collapsed": false
   },
   "outputs": [
    {
     "name": "stdout",
     "output_type": "stream",
     "text": [
      "FOLD 0\n",
      "HOLDING OUT CHROMOSOMES ['chr12']\n",
      "HOLDING OUT CELL TYPES [3]\n",
      "RUNING SOLVER WITH REG=1e-08\n",
      "net.akmorrow13.endive.pipelines.SolverPipeline\n",
      "/home/eecs/akmorrow/ADAM/endive\n",
      "../target/scala-2.10/endive-assembly-0.1.jar\n",
      "{'predictionsOutput': '/user/vaishaal/tmp', 'valCellTypes': [8], 'reference': '/home/eecs/akmorrow/ADAM/endive/workfiles/hg19.2bit', 'dnaseBams': '/data/anv/DREAMDATA/dnase_bams/merged_coverage/', 'featuresOutput': '/data/anv/featurized/EGR1_dnase', 'valChromosomes': ['chr10'], 'dnaseNarrow': '/data/anv/DREAMDATA/DNASE/peaks/relaxed/', 'lambda': 1e-08, 'negativeSamplingFreq': 0.01, 'valDuringSolve': True, 'modelOutput': '/home/eecs/vaishaal/endive-models'}\n",
      "{'SPARK_EXECUTOR_CORES': '8', 'OMP_NUM_THREADS': '1', 'KEYSTONE_MEM': '100g', 'SPARK_NUM_EXECUTORS': '32'}\n"
     ]
    },
    {
     "ename": "Exception",
     "evalue": "invocation terminated with non-zero exit status",
     "output_type": "error",
     "traceback": [
      "\u001b[0;31m---------------------------------------------------------------------------\u001b[0m",
      "\u001b[0;31mException\u001b[0m                                 Traceback (most recent call last)",
      "\u001b[0;32m<ipython-input-24-d841ba0e99e2>\u001b[0m in \u001b[0;36m<module>\u001b[0;34m()\u001b[0m\n\u001b[1;32m     10\u001b[0m                             \u001b[0mnum_executors\u001b[0m\u001b[0;34m=\u001b[0m\u001b[0;36m32\u001b[0m\u001b[0;34m,\u001b[0m\u001b[0;34m\u001b[0m\u001b[0m\n\u001b[1;32m     11\u001b[0m                             \u001b[0mlogPath\u001b[0m\u001b[0;34m=\u001b[0m\u001b[0mlogpath\u001b[0m\u001b[0;34m,\u001b[0m\u001b[0;34m\u001b[0m\u001b[0m\n\u001b[0;32m---> 12\u001b[0;31m                             regs=[1e-8, 1e-4, 1e-2])\n\u001b[0m",
      "\u001b[0;32m/home/eecs/akmorrow/ADAM/endive/python/scala_python_endive_wrapper.py\u001b[0m in \u001b[0;36mcross_validate\u001b[0;34m(feature_path, hdfsclient, chromosomes, cellTypes, numHoldOutChr, numHoldOutCell, num_folds, regs, negativeSamplingFreqs, logPath, seed, executor_mem, cores_per_executor, num_executors, other_meta)\u001b[0m\n\u001b[1;32m    323\u001b[0m                            \u001b[0mvalCellTypes\u001b[0m\u001b[0;34m=\u001b[0m\u001b[0;34m[\u001b[0m\u001b[0;36m8\u001b[0m\u001b[0;34m]\u001b[0m\u001b[0;34m,\u001b[0m\u001b[0;34m\u001b[0m\u001b[0m\n\u001b[1;32m    324\u001b[0m                            \u001b[0mvalChromosomes\u001b[0m\u001b[0;34m=\u001b[0m\u001b[0;34m[\u001b[0m\u001b[0;34m\"chr10\"\u001b[0m\u001b[0;34m]\u001b[0m\u001b[0;34m,\u001b[0m\u001b[0;34m\u001b[0m\u001b[0m\n\u001b[0;32m--> 325\u001b[0;31m                            valDuringSolve=True)\n\u001b[0m\u001b[1;32m    326\u001b[0m \u001b[0;34m\u001b[0m\u001b[0m\n\u001b[1;32m    327\u001b[0m             \u001b[0mtrain_metrics\u001b[0m \u001b[0;34m=\u001b[0m \u001b[0mcompute_metrics\u001b[0m\u001b[0;34m(\u001b[0m\u001b[0mtrain_res\u001b[0m\u001b[0;34m[\u001b[0m\u001b[0;34m:\u001b[0m\u001b[0;34m,\u001b[0m \u001b[0;36m1\u001b[0m\u001b[0;34m]\u001b[0m\u001b[0;34m,\u001b[0m \u001b[0mtrain_res\u001b[0m\u001b[0;34m[\u001b[0m\u001b[0;34m:\u001b[0m\u001b[0;34m,\u001b[0m \u001b[0;36m0\u001b[0m\u001b[0;34m]\u001b[0m\u001b[0;34m,\u001b[0m \u001b[0mtag\u001b[0m\u001b[0;34m=\u001b[0m\u001b[0;34m'train'\u001b[0m\u001b[0;34m)\u001b[0m\u001b[0;34m\u001b[0m\u001b[0m\n",
      "\u001b[0;32m/home/eecs/akmorrow/ADAM/endive/python/scala_python_endive_wrapper.py\u001b[0m in \u001b[0;36mrun_solver_pipeline\u001b[0;34m(featuresPath, logpath, hdfsclient, cores_per_executor, num_executors, executor_mem, use_yarn, valChromosomes, valCellTypes, reg, negativeSamplingFreq, predictionsPath, valDuringSolve, modelPath, base_config)\u001b[0m\n\u001b[1;32m    122\u001b[0m               \u001b[0mcores_per_executor\u001b[0m\u001b[0;34m,\u001b[0m\u001b[0;34m\u001b[0m\u001b[0m\n\u001b[1;32m    123\u001b[0m               \u001b[0mnum_executors\u001b[0m\u001b[0;34m,\u001b[0m\u001b[0;34m\u001b[0m\u001b[0m\n\u001b[0;32m--> 124\u001b[0;31m               use_yarn=True)\n\u001b[0m\u001b[1;32m    125\u001b[0m \u001b[0;34m\u001b[0m\u001b[0m\n\u001b[1;32m    126\u001b[0m     \u001b[0;32mif\u001b[0m \u001b[0mvalDuringSolve\u001b[0m\u001b[0;34m:\u001b[0m\u001b[0;34m\u001b[0m\u001b[0m\n",
      "\u001b[0;32m/home/eecs/akmorrow/ADAM/endive/python/pythonrun.pyc\u001b[0m in \u001b[0;36mrun\u001b[0;34m(config, logpath, pipelineClass, pipelineJar, KEYSTONE_MEM, SPARK_EXECUTOR_CORES, SPARK_NUM_EXECUTORS, OMP_NUM_THREADS, output_sanity_check, use_yarn)\u001b[0m\n\u001b[1;32m     91\u001b[0m     \u001b[0;32mif\u001b[0m \u001b[0mp\u001b[0m\u001b[0;34m.\u001b[0m\u001b[0mreturncode\u001b[0m \u001b[0;34m!=\u001b[0m \u001b[0;36m0\u001b[0m\u001b[0;34m:\u001b[0m\u001b[0;34m\u001b[0m\u001b[0m\n\u001b[1;32m     92\u001b[0m         \u001b[0;32mraise\u001b[0m \u001b[0mException\u001b[0m\u001b[0;34m(\u001b[0m\u001b[0;34m\"invocation terminated with non-zero exit status\"\u001b[0m\u001b[0;34m)\u001b[0m\u001b[0;34m\u001b[0m\u001b[0m\n\u001b[0;32m---> 93\u001b[0;31m \u001b[0;34m\u001b[0m\u001b[0m\n\u001b[0m\u001b[1;32m     94\u001b[0m     \u001b[0mtime_log_fid\u001b[0m \u001b[0;34m=\u001b[0m \u001b[0mopen\u001b[0m\u001b[0;34m(\u001b[0m\u001b[0mtime_log\u001b[0m\u001b[0;34m,\u001b[0m \u001b[0;34m'w'\u001b[0m\u001b[0;34m)\u001b[0m\u001b[0;34m\u001b[0m\u001b[0m\n\u001b[1;32m     95\u001b[0m     \u001b[0mtime_log_fid\u001b[0m\u001b[0;34m.\u001b[0m\u001b[0mwrite\u001b[0m\u001b[0;34m(\u001b[0m\u001b[0;34m\"%f\\n\"\u001b[0m \u001b[0;34m%\u001b[0m \u001b[0;34m(\u001b[0m\u001b[0mtime\u001b[0m\u001b[0;34m.\u001b[0m\u001b[0mtime\u001b[0m\u001b[0;34m(\u001b[0m\u001b[0;34m)\u001b[0m \u001b[0;34m-\u001b[0m \u001b[0mt1\u001b[0m\u001b[0;34m)\u001b[0m\u001b[0;34m)\u001b[0m\u001b[0;34m\u001b[0m\u001b[0m\n",
      "\u001b[0;31mException\u001b[0m: invocation terminated with non-zero exit status"
     ]
    }
   ],
   "source": [
    "results_df = cross_validate(\"/data/anv/featurized/EGR1_dnase\", \n",
    "                            hdfsclient, \n",
    "                            chromosomes, \n",
    "                            egr1_cell_types,\n",
    "                            numHoldOutChr=1, \n",
    "                            numHoldOutCell=1,\n",
    "                            num_folds=1, \n",
    "                            negativeSamplingFreqs=[0.01],\n",
    "                            cores_per_executor=8,\n",
    "                            num_executors=32,\n",
    "                            logPath=logpath,\n",
    "                            regs=[1e-8, 1e-4, 1e-2])"
   ]
  },
  {
   "cell_type": "code",
   "execution_count": null,
   "metadata": {
    "collapsed": true
   },
   "outputs": [],
   "source": [
    "results_df"
   ]
  }
 ],
 "metadata": {
  "anaconda-cloud": {},
  "kernelspec": {
   "display_name": "Python [default]",
   "language": "python",
   "name": "python2"
  },
  "language_info": {
   "codemirror_mode": {
    "name": "ipython",
    "version": 2
   },
   "file_extension": ".py",
   "mimetype": "text/x-python",
   "name": "python",
   "nbconvert_exporter": "python",
   "pygments_lexer": "ipython2",
   "version": "2.7.13"
  }
 },
 "nbformat": 4,
 "nbformat_minor": 0
}
