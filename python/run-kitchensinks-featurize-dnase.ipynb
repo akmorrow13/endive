{
 "worksheets": [
  {
   "cells": [
    {
     "cell_type": "code",
     "execution_count": null,
     "metadata": {},
     "outputs": [],
     "input": [
      "%pylab inline\n",
      "from snakebite.client import Client\n",
      "import pyaml as yaml\n",
      "import sys\n",
      "import pythonrun\n",
      "reload(pythonrun)\n",
      "import os\n",
      "import seaborn as sns\n",
      "from sklearn import metrics\n",
      "import scala_python_endive_wrapper\n",
      "reload(scala_python_endive_wrapper)\n",
      "from scala_python_endive_wrapper import *\n",
      "import pandas as pd\n",
      "import os"
     ],
     "language": "python"
    },
    {
     "cell_type": "code",
     "execution_count": null,
     "metadata": {},
     "outputs": [],
     "input": [
      "hdfsclient = Client(\"amp-bdg-master.amplab.net\", 8020, use_trash=False)\n",
      "notebook_stdout = sys.stdout\n",
      "notebook_stderr = sys.stderr\n",
      "terminal_stdout = open('/dev/stdout', 'w')\n",
      "terminal_stderr = open('/dev/stderr', 'w')\n",
      "logpath = \"/home/eecs/akmorrow/ADAM/endive\""
     ],
     "language": "python"
    },
    {
     "cell_type": "code",
     "execution_count": null,
     "metadata": {},
     "outputs": [],
     "input": [
      "executor_mem = \"100g\"\n",
      "cores_per_executor = 8\n",
      "num_executors = 50\n",
      "EGR1_PATH = \"/data/anv/DREAMDATA/aggregated/full_dnase/EGR1\"\n",
      "\n",
      "featurized = \"hdfs://amp-spark-master.amp:8020/user/akmorrow/featurized/wavelets/EGR1_dnase_all_dim_256\""
     ],
     "language": "python"
    },
    {
     "cell_type": "code",
     "execution_count": null,
     "metadata": {},
     "outputs": [],
     "input": [
      "# this is where the magic happens\n",
      "results = []\n",
      "featureOutput = \"/data/anv/featurized/EGR1_dnase\"\n",
      "res = run_kitchensink_featurize_pipeline(EGR1_PATH,\n",
      "                                         \"fakePath\",\n",
      "                                         logpath,\n",
      "                                         featureOutput,\n",
      "                                         seed=0,\n",
      "                                         cores_per_executor=cores_per_executor,\n",
      "                                         sample=0.01,\n",
      "                                         executor_mem=executor_mem,\n",
      "                                         num_partitions=cores_per_executor*num_executors,\n",
      "                                         num_executors=num_executors)\n",
      "results.append(res)"
     ],
     "language": "python"
    },
    {
     "cell_type": "code",
     "execution_count": null,
     "metadata": {},
     "outputs": [],
     "input": [
      "# chromosomes = map(lambda x: \"chr{0}\".format(x+1), range(23))\n",
      "# chromosomes.append(\"chrX\")\n",
      "chromosomes=[\"chr15\"]\n",
      "# CHANGE ME BASED ON ENUM + TF\n",
      "egr1_cell_types = string_to_enum_celltypes(['GM12878', 'H1hESC', 'HCT116', 'MCF7'])"
     ],
     "language": "python"
    },
    {
     "cell_type": "code",
     "execution_count": null,
     "metadata": {},
     "outputs": [],
     "input": [
      "reload(scala_python_endive_wrapper)\n",
      "results_df = cross_validate(featurized,\n",
      "                            hdfsclient,\n",
      "                            chromosomes,\n",
      "                            egr1_cell_types,\n",
      "                            logpath,\n",
      "                            numHoldOutChr=1,\n",
      "                            numHoldOutCell=1,\n",
      "                            num_folds=1,\n",
      "                            negativeSamplingFreqs=[0.001],\n",
      "                            mixtureWeights=[-1.0],\n",
      "                            cores_per_executor=8,\n",
      "                            num_executors=32,\n",
      "                            regs=[1e-2])"
     ],
     "language": "python"
    },
    {
     "cell_type": "code",
     "execution_count": null,
     "metadata": {},
     "outputs": [],
     "input": [
      ""
     ],
     "language": "python"
    }
   ]
  }
 ],
 "cells": [],
 "metadata": {},
 "nbformat": 3,
 "nbformat_minor": 0
}