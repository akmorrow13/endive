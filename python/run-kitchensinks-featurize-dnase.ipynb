{
 "cells": [
  {
   "cell_type": "code",
   "execution_count": 98,
   "metadata": {
    "collapsed": false
   },
   "outputs": [
    {
     "name": "stdout",
     "output_type": "stream",
     "text": [
      "Populating the interactive namespace from numpy and matplotlib\n"
     ]
    }
   ],
   "source": [
    "%pylab inline\n",
    "from snakebite.client import Client\n",
    "import pyaml as yaml\n",
    "import sys\n",
    "import pythonrun\n",
    "reload(pythonrun)\n",
    "import os\n",
    "import seaborn as sns\n",
    "from sklearn import metrics\n",
    "import scala_python_endive_wrapper\n",
    "reload(scala_python_endive_wrapper)\n",
    "from scala_python_endive_wrapper import *\n",
    "import pandas as pd\n",
    "import os"
   ]
  },
  {
   "cell_type": "code",
   "execution_count": 99,
   "metadata": {
    "collapsed": false
   },
   "outputs": [],
   "source": [
    "hdfsclient = Client(\"amp-bdg-master.amplab.net\", 8020, use_trash=False)\n",
    "notebook_stdout = sys.stdout\n",
    "notebook_stderr = sys.stderr\n",
    "terminal_stdout = open('/dev/stdout', 'w')\n",
    "terminal_stderr = open('/dev/stderr', 'w')\n",
    "logpath = \"/home/eecs/akmorrow/ADAM/endive\"\n"
   ]
  },
  {
   "cell_type": "code",
   "execution_count": 100,
   "metadata": {
    "collapsed": false
   },
   "outputs": [],
   "source": [
    "executor_mem = \"100g\"\n",
    "cores_per_executor = 8\n",
    "num_executors = 50\n",
    "EGR1_PATH = \"/data/anv/DREAMDATA/aggregated/full_dnase/EGR1\"\n",
    "\n",
    "featurized = \"hdfs://amp-spark-master.amp:8020/user/akmorrow/featurized/EGR1_dnase_sampled_test_chr15\""
   ]
  },
  {
   "cell_type": "code",
   "execution_count": null,
   "metadata": {
    "collapsed": false
   },
   "outputs": [
    {
     "name": "stdout",
     "output_type": "stream",
     "text": [
      "net.akmorrow13.endive.pipelines.DnaseKernelPipeline\n",
      "/home/eecs/akmorrow/ADAM/endive\n",
      "../target/scala-2.10/endive-assembly-0.1.jar\n",
      "{'kmerLength': 8, 'reference': '/home/eecs/akmorrow/ADAM/endive/workfiles/hg19.2bit', 'numPartitions': 400, 'dnaseBams': '/data/anv/DREAMDATA/dnase_bams/merged_coverage/', 'aggregatedSequenceOutput': '/data/anv/DREAMDATA/aggregated/full_dnase/EGR1', 'featuresOutput': '/data/anv/featurized/EGR1_dnase', 'seed': 0, 'dnaseNarrow': '/data/anv/DREAMDATA/DNASE/peaks/relaxed/', 'approxDim': 256, 'featurizeSample': 0.01, 'readFiltersFromDisk': True}\n",
      "{'SPARK_EXECUTOR_CORES': '8', 'OMP_NUM_THREADS': '1', 'KEYSTONE_MEM': '100g', 'SPARK_NUM_EXECUTORS': '50'}\n"
     ]
    }
   ],
   "source": [
    "# this is where the magic happens\n",
    "results = [] \n",
    "featureOutput = \"/data/anv/featurized/EGR1_dnase\"\n",
    "res = run_kitchensink_featurize_pipeline(EGR1_PATH,\n",
    "                           \"fakePath\",\n",
    "                           logpath,\n",
    "                           featureOutput,\n",
    "                           seed=0,\n",
    "                           cores_per_executor=cores_per_executor,\n",
    "                           sample=0.01,\n",
    "                           executor_mem=executor_mem,\n",
    "                           num_partitions=cores_per_executor*num_executors,\n",
    "                           num_executors=num_executors)\n",
    "results.append(res)"
   ]
  },
  {
   "cell_type": "code",
   "execution_count": 105,
   "metadata": {
    "collapsed": false
   },
   "outputs": [],
   "source": [
    "# chromosomes = map(lambda x: \"chr{0}\".format(x+1), range(23))\n",
    "# chromosomes.append(\"chrX\")\n",
    "chromosomes=[\"chr15\"]\n",
    "# CHANGE ME BASED ON ENUM + TF\n",
    "egr1_cell_types = string_to_enum_celltypes(['GM12878', 'H1hESC', 'HCT116', 'MCF7'])"
   ]
  },
  {
   "cell_type": "code",
   "execution_count": null,
   "metadata": {
    "collapsed": false
   },
   "outputs": [
    {
     "name": "stdout",
     "output_type": "stream",
     "text": [
      "FOLD 0\n",
      "HOLDING OUT CHROMOSOMES ['chr15']\n",
      "HOLDING OUT CELL TYPES [3]\n",
      "RUNING SOLVER WITH REG=0.01\n",
      "AND MIXTUREWEIGHT=-1.0\n"
     ]
    }
   ],
   "source": [
    "reload(scala_python_endive_wrapper)\n",
    "results_df = cross_validate(featurized, \n",
    "                            hdfsclient, \n",
    "                            chromosomes, \n",
    "                            egr1_cell_types,\n",
    "                            logpath,\n",
    "                            numHoldOutChr=1, \n",
    "                            numHoldOutCell=1,\n",
    "                            num_folds=1, \n",
    "                            negativeSamplingFreqs=[0.001],\n",
    "                            mixtureWeights=[-1.0],\n",
    "                            cores_per_executor=8,\n",
    "                            num_executors=32,\n",
    "                            regs=[1e-2])"
   ]
  },
  {
   "cell_type": "code",
   "execution_count": 107,
   "metadata": {
    "collapsed": false
   },
   "outputs": [
    {
     "data": {
      "text/html": [
       "<div>\n",
       "<table border=\"1\" class=\"dataframe\">\n",
       "  <thead>\n",
       "    <tr style=\"text-align: right;\">\n",
       "      <th></th>\n",
       "      <th>negativeSamplingFreq</th>\n",
       "      <th>reg</th>\n",
       "      <th>test_celltypes</th>\n",
       "      <th>test_chromosomes</th>\n",
       "      <th>train_auPRC</th>\n",
       "      <th>train_auROC</th>\n",
       "      <th>train_recall_at_05_fdr</th>\n",
       "      <th>train_recall_at_10_fdr</th>\n",
       "      <th>train_recall_at_25_fdr</th>\n",
       "      <th>train_recall_at_50_fdr</th>\n",
       "      <th>val_auPRC</th>\n",
       "      <th>val_auROC</th>\n",
       "      <th>val_recall_at_05_fdr</th>\n",
       "      <th>val_recall_at_10_fdr</th>\n",
       "      <th>val_recall_at_25_fdr</th>\n",
       "      <th>val_recall_at_50_fdr</th>\n",
       "    </tr>\n",
       "  </thead>\n",
       "  <tbody>\n",
       "    <tr>\n",
       "      <th>0</th>\n",
       "      <td>0.001</td>\n",
       "      <td>0.01</td>\n",
       "      <td>[3]</td>\n",
       "      <td>[chr15]</td>\n",
       "      <td>0.999998</td>\n",
       "      <td>0.995256</td>\n",
       "      <td>1.0</td>\n",
       "      <td>1.0</td>\n",
       "      <td>1.0</td>\n",
       "      <td>1.0</td>\n",
       "      <td>0.077754</td>\n",
       "      <td>0.973423</td>\n",
       "      <td>0.0</td>\n",
       "      <td>0.0</td>\n",
       "      <td>0.0</td>\n",
       "      <td>0.0</td>\n",
       "    </tr>\n",
       "  </tbody>\n",
       "</table>\n",
       "</div>"
      ],
      "text/plain": [
       "   negativeSamplingFreq   reg test_celltypes test_chromosomes  train_auPRC  \\\n",
       "0                 0.001  0.01            [3]          [chr15]     0.999998   \n",
       "\n",
       "   train_auROC  train_recall_at_05_fdr  train_recall_at_10_fdr  \\\n",
       "0     0.995256                     1.0                     1.0   \n",
       "\n",
       "   train_recall_at_25_fdr  train_recall_at_50_fdr  val_auPRC  val_auROC  \\\n",
       "0                     1.0                     1.0   0.077754   0.973423   \n",
       "\n",
       "   val_recall_at_05_fdr  val_recall_at_10_fdr  val_recall_at_25_fdr  \\\n",
       "0                   0.0                   0.0                   0.0   \n",
       "\n",
       "   val_recall_at_50_fdr  \n",
       "0                   0.0  "
      ]
     },
     "execution_count": 107,
     "metadata": {},
     "output_type": "execute_result"
    }
   ],
   "source": [
    "results_df"
   ]
  },
  {
   "cell_type": "code",
   "execution_count": null,
   "metadata": {
    "collapsed": true
   },
   "outputs": [],
   "source": []
  }
 ],
 "metadata": {
  "anaconda-cloud": {},
  "kernelspec": {
   "display_name": "Python [default]",
   "language": "python",
   "name": "python2"
  },
  "language_info": {
   "codemirror_mode": {
    "name": "ipython",
    "version": 2
   },
   "file_extension": ".py",
   "mimetype": "text/x-python",
   "name": "python",
   "nbconvert_exporter": "python",
   "pygments_lexer": "ipython2",
   "version": "2.7.13"
  }
 },
 "nbformat": 4,
 "nbformat_minor": 0
}
