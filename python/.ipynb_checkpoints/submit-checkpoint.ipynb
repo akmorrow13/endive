{
 "cells": [
  {
   "cell_type": "code",
   "execution_count": 2,
   "metadata": {
    "collapsed": false
   },
   "outputs": [
    {
     "name": "stdout",
     "output_type": "stream",
     "text": [
      "Populating the interactive namespace from numpy and matplotlib\n"
     ]
    },
    {
     "name": "stderr",
     "output_type": "stream",
     "text": [
      "/home/eecs/vaishaal/anaconda2/lib/python2.7/site-packages/IPython/core/magics/pylab.py:161: UserWarning: pylab import has clobbered these variables: ['linalg', 'random', 'power', 'info', 'fft']\n",
      "`%matplotlib` prevents importing * from pylab and numpy\n",
      "  \"\\n`%matplotlib` prevents importing * from pylab and numpy\"\n"
     ]
    }
   ],
   "source": [
    "%pylab inline\n",
    "from snakebite.client import Client\n",
    "import pyaml as yaml\n",
    "import sys\n",
    "import pythonrun\n",
    "reload(pythonrun)\n",
    "import os\n",
    "import seaborn as sns\n",
    "from sklearn import metrics\n",
    "import scala_python_endive_wrapper\n",
    "reload(scala_python_endive_wrapper)\n",
    "from scala_python_endive_wrapper import *\n",
    "import pandas as pd\n",
    "import os\n",
    "import submission"
   ]
  },
  {
   "cell_type": "code",
   "execution_count": null,
   "metadata": {
    "collapsed": true
   },
   "outputs": [],
   "source": [
    "# output where to save temporary predictions\n",
    "predictionsPath = \"/home/eecs/akmorrow/tmp/L.EGR1.K562.tab.tmp\"\n",
    "\n",
    "# where is model saved?\n",
    "modelPath = \"/home/eecs/akmorrow/endive-models\"\n",
    "\n",
    "# test FeaturizedLabeledWindows\n",
    "featuresPath = \"hdfs://amp-spark-master.amp:8020/user/akmorrow/testFeatures/K562_dim_2048_dim_2048_samp_1.0\"\n",
    "approxDim = 2048\n",
    "\n",
    "(test_preds, meta_df) = run_test_pipeline(featuresPath, # features for test windows\n",
    "                                          logpath,\n",
    "                                          hdfsclient,\n",
    "                                          predictionsPath, # saves metadata and test preditions to /testMetaData and /testPreds\n",
    "                                          modelPath,\n",
    "                                          approxDim)"
   ]
  },
  {
   "cell_type": "code",
   "execution_count": null,
   "metadata": {
    "collapsed": true
   },
   "outputs": [],
   "source": [
    "truePath = \"/home/eecs/akmorrow/tmp/ladder_regions.blacklistfiltered.bed\"\n",
    "outputPath = \"/home/eecs/akmorrow/tmp/L.EGR1.K562.tab\"\n",
    "submission.format_and_save_submission(truePath, predictionsPath, outputPath)"
   ]
  }
 ],
 "metadata": {
  "kernelspec": {
   "display_name": "Python 2",
   "language": "python",
   "name": "python2"
  },
  "language_info": {
   "codemirror_mode": {
    "name": "ipython",
    "version": 2
   },
   "file_extension": ".py",
   "mimetype": "text/x-python",
   "name": "python",
   "nbconvert_exporter": "python",
   "pygments_lexer": "ipython2",
   "version": "2.7.12"
  }
 },
 "nbformat": 4,
 "nbformat_minor": 0
}
