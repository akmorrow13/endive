{
 "cells": [
  {
   "cell_type": "code",
   "execution_count": 11,
   "metadata": {
    "collapsed": false
   },
   "outputs": [
    {
     "name": "stdout",
     "output_type": "stream",
     "text": [
      "Installed autotime.py. To use it, type:\n",
      "  %load_ext autotime\n"
     ]
    },
    {
     "name": "stderr",
     "output_type": "stream",
     "text": [
      "/home/eecs/vaishaal/anaconda2/lib/python2.7/site-packages/IPython/core/magics/extension.py:47: UserWarning: %install_ext` is deprecated, please distribute your extension(s)as a python packages.\n",
      "  \"as a python packages.\", UserWarning)\n"
     ]
    }
   ],
   "source": [
    "%install_ext https://raw.github.com/cpcloud/ipython-autotime/master/autotime.py\n",
    "%load_ext autotime"
   ]
  },
  {
   "cell_type": "code",
   "execution_count": 9,
   "metadata": {
    "collapsed": false
   },
   "outputs": [
    {
     "name": "stdout",
     "output_type": "stream",
     "text": [
      "Populating the interactive namespace from numpy and matplotlib\n"
     ]
    },
    {
     "name": "stderr",
     "output_type": "stream",
     "text": [
      "/home/eecs/vaishaal/anaconda2/lib/python2.7/site-packages/IPython/core/magics/pylab.py:161: UserWarning: pylab import has clobbered these variables: ['seed', 'linalg', 'random', 'power', 'info', 'fft']\n",
      "`%matplotlib` prevents importing * from pylab and numpy\n",
      "  \"\\n`%matplotlib` prevents importing * from pylab and numpy\"\n"
     ]
    }
   ],
   "source": [
    "%pylab inline\n",
    "from snakebite.client import Client\n",
    "import pyaml as yaml\n",
    "import sys\n",
    "import pythonrun\n",
    "reload(pythonrun)\n",
    "import os\n",
    "import seaborn as sns\n",
    "from sklearn import metrics\n",
    "import scala_python_endive_wrapper\n",
    "reload(scala_python_endive_wrapper)\n",
    "from scala_python_endive_wrapper import *\n",
    "import pandas as pd"
   ]
  },
  {
   "cell_type": "code",
   "execution_count": 2,
   "metadata": {
    "collapsed": true
   },
   "outputs": [],
   "source": [
    "hdfsclient = Client(\"amp-spark-master.amp\", 8020, use_trash=False)\n",
    "notebook_stdout = sys.stdout\n",
    "notebook_stderr = sys.stderr\n",
    "terminal_stdout = open('/dev/stdout', 'w')\n",
    "terminal_stderr = open('/dev/stderr', 'w')\n",
    "logpath = \"/tmp/log\""
   ]
  },
  {
   "cell_type": "code",
   "execution_count": 3,
   "metadata": {
    "collapsed": true
   },
   "outputs": [],
   "source": [
    "\n",
    "executor_mem = \"100g\"\n",
    "cores_per_executor = 32\n",
    "num_executors = 14"
   ]
  },
  {
   "cell_type": "code",
   "execution_count": 4,
   "metadata": {
    "collapsed": false
   },
   "outputs": [],
   "source": [
    "# CHANGE ME\n",
    "dataset_creation_config = \\\n",
    "{\n",
    "    \"labels\": \"/user/vaishaal/endive-data/ChIPseq/labels/EGR1.train.labels.tsv\", \\\n",
    "    \"reference\": \"/home/eecs/akmorrow/ADAM/endive/workfiles/hg19.2bit\", \\\n",
    "    \"dnase\": \"/user/vaishaal/endive-data/DNASE/peaks/relaxed/\", \\\n",
    "    \"aggregatedSequenceOutput\": \"/user/vaishaal/endive-data/aggregated/EGR1/\"\n",
    "}\n",
    "\n",
    "EGR1_PATH = \"/user/vaishaal/endive-data/aggregated/EGR1/EGR1\"\n",
    "ATF2_PATH = \"/user/vaishaal/endive-data/aggregated/ATF2/ATF2\"\n"
   ]
  },
  {
   "cell_type": "code",
   "execution_count": 21,
   "metadata": {
    "collapsed": false
   },
   "outputs": [],
   "source": [
    "# Run scala job send output to terminal to create windows\n",
    "sys.stdout = terminal_stdout\n",
    "sys.stderr = terminal_stderr\n",
    "pythonrun.run(dataset_creation_config, \n",
    "              logpath,\n",
    "              dataset_creation_pipeline_class, \n",
    "              pipeline_jar, \n",
    "              executor_mem,\n",
    "              cores_per_executor, \n",
    "              num_executors,\n",
    "              use_yarn=True)"
   ]
  },
  {
   "cell_type": "code",
   "execution_count": 28,
   "metadata": {
    "collapsed": false
   },
   "outputs": [
    {
     "data": {
      "text/plain": [
       "0"
      ]
     },
     "execution_count": 28,
     "metadata": {},
     "output_type": "execute_result"
    },
    {
     "name": "stdout",
     "output_type": "stream",
     "text": [
      "time: 12.2 ms\n"
     ]
    }
   ],
   "source": [
    "sys.stdout = notebook_stdout\n",
    "sys.stderr = notebook_stderr\n",
    "os.system(\"mkdir -p {0}\".format(kernel_pipeline_config[\"predictionsOutput\"]))"
   ]
  },
  {
   "cell_type": "code",
   "execution_count": 5,
   "metadata": {
    "collapsed": false
   },
   "outputs": [
    {
     "name": "stdout",
     "output_type": "stream",
     "text": [
      "(256, 32)\n",
      "(256, 32)\n",
      "(256, 32)\n",
      "(256, 32)\n",
      "(256, 32)\n",
      "(256, 32)\n",
      "(256, 32)\n",
      "(256, 32)\n",
      "(256, 32)\n",
      "(256, 32)\n"
     ]
    }
   ],
   "source": [
    "# this is where the magic happens\n",
    "results = [] \n",
    "for seed in range(10):\n",
    "     res = run_kernel_pipeline(EGR1_PATH,\n",
    "                           \"/tmp/filters.csv\", \n",
    "                           logpath, \n",
    "                           seed=seed,\n",
    "                           filter_gen_gen=make_gaussian_filter_gen)\n",
    "     results.append(res)"
   ]
  },
  {
   "cell_type": "code",
   "execution_count": 6,
   "metadata": {
    "collapsed": false
   },
   "outputs": [
    {
     "data": {
      "text/plain": [
       "[((array([ 1.,  1.,  1., ...,  0.,  0.,  0.]),\n",
       "   array([-0.78151951, -0.25818382,  0.80800769, ..., -0.87056821,\n",
       "          -1.01651007, -0.80023424])),\n",
       "  (array([ 0.,  0.,  0., ...,  0.,  0.,  0.]),\n",
       "   array([-0.96941036, -0.63833775, -0.87334225, ..., -0.93881293,\n",
       "          -1.1796549 , -1.12027699]))),\n",
       " ((array([ 1.,  1.,  1., ...,  0.,  0.,  0.]),\n",
       "   array([ 1.02296148,  0.66964339,  1.26592657, ..., -0.77796523,\n",
       "          -0.6542328 , -0.86774101])),\n",
       "  (array([ 0.,  0.,  0., ...,  0.,  0.,  0.]),\n",
       "   array([-0.89138784, -0.69012826, -0.66763286, ..., -1.21900356,\n",
       "          -1.19396424, -0.81206342]))),\n",
       " ((array([ 1.,  1.,  1., ...,  0.,  0.,  0.]),\n",
       "   array([-0.1690286 , -0.82460484,  0.95645093, ..., -0.57891237,\n",
       "          -0.84219833, -0.87527558])),\n",
       "  (array([ 0.,  0.,  0., ...,  0.,  0.,  0.]),\n",
       "   array([-0.90619689, -0.66535702, -0.59260742, ..., -0.58661105,\n",
       "          -0.89711953, -0.80625473]))),\n",
       " ((array([ 1.,  1.,  1., ...,  0.,  0.,  0.]),\n",
       "   array([-0.41650657,  0.51671718,  0.68042563, ..., -0.81430221,\n",
       "          -0.90849883, -0.86621848])),\n",
       "  (array([ 0.,  0.,  0., ...,  0.,  0.,  0.]),\n",
       "   array([-0.92456191, -1.09464314, -0.79095906, ..., -0.52786491,\n",
       "          -1.01296819, -1.02890892]))),\n",
       " ((array([ 1.,  1.,  1., ...,  0.,  0.,  0.]),\n",
       "   array([ 0.32266183, -0.52810679, -0.87299188, ..., -0.7620323 ,\n",
       "          -0.95377503, -0.9990732 ])),\n",
       "  (array([ 0.,  0.,  0., ...,  0.,  0.,  0.]),\n",
       "   array([-0.75777825, -0.66706376, -0.96294895, ..., -0.96767901,\n",
       "          -0.90569943, -0.61170887]))),\n",
       " ((array([ 1.,  1.,  1., ...,  0.,  0.,  0.]),\n",
       "   array([-0.7164442 ,  1.06636992, -0.54192602, ..., -0.87091986,\n",
       "          -1.1727171 , -1.09614704])),\n",
       "  (array([ 0.,  0.,  0., ...,  0.,  0.,  0.]),\n",
       "   array([-1.09732803, -0.9605508 , -0.87350342, ..., -1.00281169,\n",
       "          -1.09295653, -0.86244158]))),\n",
       " ((array([ 1.,  1.,  1., ...,  0.,  0.,  0.]),\n",
       "   array([ 0.71123403,  1.14986659, -0.81631355, ...,  0.42036151,\n",
       "          -0.85341569, -0.50474896])),\n",
       "  (array([ 0.,  0.,  0., ...,  0.,  0.,  0.]),\n",
       "   array([-0.95885643, -0.95454285, -1.09917423, ..., -1.20407278,\n",
       "          -0.75372845, -0.86387206]))),\n",
       " ((array([ 1.,  1.,  1., ...,  0.,  0.,  0.]),\n",
       "   array([-0.95186378, -0.3713467 ,  0.94808485, ..., -1.01399198,\n",
       "          -0.96775806, -1.09277934])),\n",
       "  (array([ 0.,  0.,  0., ...,  0.,  0.,  0.]),\n",
       "   array([-0.98242188, -0.88806556, -0.8336713 , ..., -0.61119495,\n",
       "          -0.68690134, -0.61945814]))),\n",
       " ((array([ 1.,  1.,  1., ...,  0.,  0.,  0.]),\n",
       "   array([-0.19736328,  0.33612461,  1.23945364, ..., -0.85655428,\n",
       "          -0.98456525, -0.68582003])),\n",
       "  (array([ 0.,  0.,  0., ...,  0.,  0.,  0.]),\n",
       "   array([-0.90560458, -0.76175186, -0.87556221, ..., -1.16238192,\n",
       "          -0.9527835 , -0.99948731]))),\n",
       " ((array([ 1.,  1.,  1., ...,  0.,  0.,  0.]),\n",
       "   array([-0.78585665, -0.0668005 , -0.11106935, ..., -0.92563757,\n",
       "          -0.99950659, -0.99173174])),\n",
       "  (array([ 0.,  0.,  0., ...,  0.,  0.,  0.]),\n",
       "   array([-0.77003889, -0.72869233, -0.97445494, ..., -0.83467195,\n",
       "          -0.89917355, -0.99744101])))]"
      ]
     },
     "execution_count": 6,
     "metadata": {},
     "output_type": "execute_result"
    }
   ],
   "source": []
  },
  {
   "cell_type": "markdown",
   "metadata": {},
   "source": [
    "#### ROC Metrics"
   ]
  },
  {
   "cell_type": "code",
   "execution_count": 8,
   "metadata": {
    "collapsed": false
   },
   "outputs": [],
   "source": [
    "df_base = []\n",
    "for i,res in enumerate(results):\n",
    "    ((y_train, y_train_pred), (y_test, y_test_pred)) = res\n",
    "    result = {}\n",
    "    sys.stdout = notebook_stdout\n",
    "    sys.stderr = notebook_stderr\n",
    "    train_roc_auc = metrics.roc_auc_score(y_train, y_train_pred)\n",
    "    test_roc_auc = metrics.roc_auc_score(y_test, y_test_pred)\n",
    "    train_pr_auc = metrics.average_precision_score(y_train, y_train_pred)\n",
    "    test_pr_auc = metrics.average_precision_score(y_test, y_test_pred)\n",
    "    result['train_roc'] = train_roc_auc\n",
    "    result['test_roc'] = test_roc_auc\n",
    "    result['train_pr'] = train_pr_auc\n",
    "    result['test_pr'] = test_pr_auc\n",
    "    result['seed'] = i\n",
    "    df_base.append(result)"
   ]
  },
  {
   "cell_type": "code",
   "execution_count": 10,
   "metadata": {
    "collapsed": true
   },
   "outputs": [],
   "source": [
    "df = pd.DataFrame(df_base)"
   ]
  },
  {
   "cell_type": "code",
   "execution_count": 13,
   "metadata": {
    "collapsed": false
   },
   "outputs": [
    {
     "data": {
      "text/plain": [
       "<matplotlib.axes._subplots.AxesSubplot at 0x7f6cab032610>"
      ]
     },
     "execution_count": 13,
     "metadata": {},
     "output_type": "execute_result"
    },
    {
     "data": {
      "image/png": "[encoded data removed]",
      "text/plain": [
       "<matplotlib.figure.Figure at 0x7f6cb2ead390>"
      ]
     },
     "metadata": {},
     "output_type": "display_data"
    }
   ],
   "source": []
  },
  {
   "cell_type": "markdown",
   "metadata": {},
   "source": [
    "#### PR Metrics"
   ]
  },
  {
   "cell_type": "code",
   "execution_count": 68,
   "metadata": {
    "collapsed": false
   },
   "outputs": [
    {
     "name": "stdout",
     "output_type": "stream",
     "text": [
      "Train PR AUC 0.757754546452\n",
      "Test PR AUC 0.121105773929\n"
     ]
    },
    {
     "data": {
      "image/png": "[encoded data removed]",
      "text/plain": [
       "<matplotlib.figure.Figure at 0x7f58ddd2ac10>"
      ]
     },
     "metadata": {},
     "output_type": "display_data"
    },
    {
     "data": {
      "text/plain": [
       "<matplotlib.figure.Figure at 0x7f58d264d5d0>"
      ]
     },
     "metadata": {},
     "output_type": "display_data"
    },
    {
     "name": "stdout",
     "output_type": "stream",
     "text": [
      "time: 2.96 s\n"
     ]
    }
   ],
   "source": [
    "sys.stdout = notebook_stdout\n",
    "sys.stderr = notebook_stderr\n",
    "fpr, tpr, thresh = metrics.precision_recall_curve(y_train, y_train_pred)\n",
    "train_auc = metrics.average_precision_score(y_train, y_train_pred)\n",
    "plot(fpr, tpr, label=\"train\")\n",
    "\n",
    "fpr, tpr, thresh = metrics.precision_recall_curve(y_test, y_test_pred)\n",
    "test_auc = metrics.average_precision_score(y_test, y_test_pred)\n",
    "\n",
    "plot(fpr, tpr, label=\"test\")\n",
    "\n",
    "plt.legend(loc=4)\n",
    "plt.figure()\n",
    "print(\"Train PR AUC {0}\".format(train_auc))\n",
    "print(\"Test PR AUC {0}\".format(test_auc))"
   ]
  }
 ],
 "metadata": {
  "kernelspec": {
   "display_name": "Python 2",
   "language": "python",
   "name": "python2"
  },
  "language_info": {
   "codemirror_mode": {
    "name": "ipython",
    "version": 2
   },
   "file_extension": ".py",
   "mimetype": "text/x-python",
   "name": "python",
   "nbconvert_exporter": "python",
   "pygments_lexer": "ipython2",
   "version": "2.7.12"
  }
 },
 "nbformat": 4,
 "nbformat_minor": 0
}
