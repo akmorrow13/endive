{
 "cells": [
  {
   "cell_type": "code",
   "execution_count": 8,
   "metadata": {
    "collapsed": false
   },
   "outputs": [
    {
     "name": "stderr",
     "output_type": "stream",
     "text": [
      "ERROR:root:Line magic function `%install_ext` not found.\n"
     ]
    },
    {
     "name": "stdout",
     "output_type": "stream",
     "text": [
      "The autotime extension is already loaded. To reload it, use:\n",
      "  %reload_ext autotime\n",
      "time: 7.14 ms\n"
     ]
    }
   ],
   "source": [
    "%install_ext https://raw.github.com/cpcloud/ipython-autotime/master/autotime.py\n",
    "%load_ext autotime"
   ]
  },
  {
   "cell_type": "code",
   "execution_count": null,
   "metadata": {
    "collapsed": true
   },
   "outputs": [],
   "source": []
  },
  {
   "cell_type": "code",
   "execution_count": 9,
   "metadata": {
    "collapsed": false
   },
   "outputs": [
    {
     "name": "stdout",
     "output_type": "stream",
     "text": [
      "Populating the interactive namespace from numpy and matplotlib\n",
      "time: 16.6 ms\n"
     ]
    },
    {
     "name": "stderr",
     "output_type": "stream",
     "text": [
      "/home/eecs/vaishaal/anaconda2/lib/python2.7/site-packages/IPython/core/magics/pylab.py:161: UserWarning: pylab import has clobbered these variables: ['linalg', 'random', 'power', 'info', 'fft']\n",
      "`%matplotlib` prevents importing * from pylab and numpy\n",
      "  \"\\n`%matplotlib` prevents importing * from pylab and numpy\"\n"
     ]
    }
   ],
   "source": [
    "%pylab inline\n",
    "from snakebite.client import Client\n",
    "import pyaml as yaml\n",
    "import sys\n",
    "import pythonrun\n",
    "reload(pythonrun)\n",
    "import os\n",
    "import seaborn as sns\n",
    "from sklearn import metrics\n",
    "import scala_python_endive_wrapper\n",
    "reload(scala_python_endive_wrapper)\n",
    "from scala_python_endive_wrapper import *\n",
    "import pandas as pd"
   ]
  },
  {
   "cell_type": "code",
   "execution_count": 10,
   "metadata": {
    "collapsed": false
   },
   "outputs": [
    {
     "name": "stdout",
     "output_type": "stream",
     "text": [
      "time: 6.56 ms\n"
     ]
    }
   ],
   "source": [
    "hdfsclient = Client(\"amp-spark-master.amp\", 8020, use_trash=False)\n",
    "notebook_stdout = sys.stdout\n",
    "notebook_stderr = sys.stderr\n",
    "terminal_stdout = open('/dev/stdout', 'w')\n",
    "terminal_stderr = open('/dev/stderr', 'w')\n",
    "logpath = \"/tmp/log\""
   ]
  },
  {
   "cell_type": "code",
   "execution_count": 11,
   "metadata": {
    "collapsed": false
   },
   "outputs": [
    {
     "name": "stdout",
     "output_type": "stream",
     "text": [
      "time: 2.67 ms\n"
     ]
    }
   ],
   "source": [
    "\n",
    "executor_mem = \"200g\"\n",
    "cores_per_executor = 32\n",
    "num_executors = 14"
   ]
  },
  {
   "cell_type": "code",
   "execution_count": 6,
   "metadata": {
    "collapsed": false
   },
   "outputs": [
    {
     "name": "stdout",
     "output_type": "stream",
     "text": [
      "time: 5.02 ms\n"
     ]
    }
   ],
   "source": [
    "# CHANGE ME\n",
    "dataset_creation_config = \\\n",
    "{\n",
    "    \"labels\": \"/user/vaishaal/endive-data/ChIPseq/labels/EGR1.train.labels.tsv\", \\\n",
    "    \"reference\": \"/home/eecs/akmorrow/ADAM/endive/workfiles/hg19.2bit\", \\\n",
    "    \"dnase\": \"/user/vaishaal/endive-data/DNASE/peaks/relaxed/\", \\\n",
    "    \"aggregatedSequenceOutput\": \"/user/vaishaal/endive-data/aggregated/EGR1/\"\n",
    "}\n",
    "\n",
    "EGR1_PATH = \"/user/vaishaal/endive-data/aggregated/EGR1/EGR1\"\n",
    "ATF2_PATH = \"/user/vaishaal/endive-data/aggregated/ATF2/ATF2\"\n"
   ]
  },
  {
   "cell_type": "code",
   "execution_count": 12,
   "metadata": {
    "collapsed": false
   },
   "outputs": [
    {
     "ename": "TypeError",
     "evalue": "run() got an unexpected keyword argument 'executor_mem'",
     "output_type": "error",
     "traceback": [
      "\u001b[0;31m---------------------------------------------------------------------------\u001b[0m",
      "\u001b[0;31mTypeError\u001b[0m                                 Traceback (most recent call last)",
      "\u001b[0;32m<ipython-input-12-83392343bd08>\u001b[0m in \u001b[0;36m<module>\u001b[0;34m()\u001b[0m\n\u001b[1;32m     10\u001b[0m               \u001b[0mnum_executors\u001b[0m\u001b[0;34m,\u001b[0m\u001b[0;34m\u001b[0m\u001b[0m\n\u001b[1;32m     11\u001b[0m               \u001b[0mexecutor_mem\u001b[0m\u001b[0;34m=\u001b[0m\u001b[0mexecutor_mem\u001b[0m\u001b[0;34m,\u001b[0m\u001b[0;34m\u001b[0m\u001b[0m\n\u001b[0;32m---> 12\u001b[0;31m               use_yarn=True)\n\u001b[0m",
      "\u001b[0;31mTypeError\u001b[0m: run() got an unexpected keyword argument 'executor_mem'"
     ]
    }
   ],
   "source": [
    "# Run scala job send output to terminal to create windows\n",
    "sys.stdout = terminal_stdout\n",
    "sys.stderr = terminal_stderr\n",
    "pythonrun.run(dataset_creation_config, \n",
    "              logpath,\n",
    "              dataset_creation_pipeline_class, \n",
    "              pipeline_jar, \n",
    "              executor_mem,\n",
    "              cores_per_executor, \n",
    "              num_executors,\n",
    "              use_yarn=True)"
   ]
  },
  {
   "cell_type": "code",
   "execution_count": null,
   "metadata": {
    "collapsed": false
   },
   "outputs": [],
   "source": [
    "# this is where the magic happens\n",
    "results = [] \n",
    "negs = []\n",
    "for neg in [0.001,0.01, 0.1, 1.0]:\n",
    "     res = run_kernel_pipeline(EGR1_PATH,\n",
    "                           \"/tmp/filters.csv\", \n",
    "                           logpath, \n",
    "                           seed=0,\n",
    "                           gamma=1.0,\n",
    "                           negativeSamplingFreq=neg,\n",
    "                           filter_gen_gen=make_gaussian_filter_gen,\n",
    "                           executor_mem=executor_mem)\n",
    "     negs.append(neg)\n",
    "     results.append(res)"
   ]
  },
  {
   "cell_type": "markdown",
   "metadata": {
    "collapsed": false
   },
   "source": [
    "## "
   ]
  },
  {
   "cell_type": "markdown",
   "metadata": {},
   "source": [
    "#### ROC Metrics"
   ]
  },
  {
   "cell_type": "code",
   "execution_count": 16,
   "metadata": {
    "collapsed": false
   },
   "outputs": [],
   "source": [
    "df_base = []\n",
    "for i,res in enumerate(results):\n",
    "    ((y_train, y_train_pred), (y_test, y_test_pred)) = res\n",
    "    result = {}\n",
    "    neg = negs[i]\n",
    "    sys.stdout = notebook_stdout\n",
    "    sys.stderr = notebook_stderr\n",
    "    train_roc_auc = metrics.roc_auc_score(y_train, y_train_pred)\n",
    "    test_roc_auc = metrics.roc_auc_score(y_test, y_test_pred)\n",
    "    train_pr_auc = metrics.average_precision_score(y_train, y_train_pred)\n",
    "    test_pr_auc = metrics.average_precision_score(y_test, y_test_pred)\n",
    "    result['gamma'] = 1.0\n",
    "    result['train_roc'] = train_roc_auc\n",
    "    result['test_roc'] = test_roc_auc\n",
    "    result['train_pr'] = train_pr_auc\n",
    "    result['test_pr'] = test_pr_auc\n",
    "    result['seed'] = 0\n",
    "    result['neg'] = neg\n",
    "    df_base.append(result)"
   ]
  },
  {
   "cell_type": "code",
   "execution_count": 17,
   "metadata": {
    "collapsed": false
   },
   "outputs": [
    {
     "name": "stdout",
     "output_type": "stream",
     "text": [
      "time: 4.41 ms\n"
     ]
    }
   ],
   "source": [
    "df = pd.DataFrame(df_base)"
   ]
  },
  {
   "cell_type": "code",
   "execution_count": 21,
   "metadata": {
    "collapsed": false
   },
   "outputs": [
    {
     "data": {
      "text/plain": [
       "<matplotlib.axes._subplots.AxesSubplot at 0x7f293cb4ab90>"
      ]
     },
     "execution_count": 21,
     "metadata": {},
     "output_type": "execute_result"
    },
    {
     "data": {
      "image/png": "[encoded data removed]",
      "text/plain": [
       "<matplotlib.figure.Figure at 0x7f293cb54610>"
      ]
     },
     "metadata": {},
     "output_type": "display_data"
    },
    {
     "name": "stdout",
     "output_type": "stream",
     "text": [
      "time: 245 ms\n"
     ]
    }
   ],
   "source": [
    "sns.stripplot(x='neg', y='test_roc', data=df)"
   ]
  },
  {
   "cell_type": "markdown",
   "metadata": {},
   "source": [
    "#### PR Metrics"
   ]
  },
  {
   "cell_type": "code",
   "execution_count": 68,
   "metadata": {
    "collapsed": false
   },
   "outputs": [
    {
     "name": "stdout",
     "output_type": "stream",
     "text": [
      "Train PR AUC 0.757754546452\n",
      "Test PR AUC 0.121105773929\n"
     ]
    },
    {
     "data": {
      "image/png": "[encoded data removed]",
      "text/plain": [
       "<matplotlib.figure.Figure at 0x7f58ddd2ac10>"
      ]
     },
     "metadata": {},
     "output_type": "display_data"
    },
    {
     "data": {
      "text/plain": [
       "<matplotlib.figure.Figure at 0x7f58d264d5d0>"
      ]
     },
     "metadata": {},
     "output_type": "display_data"
    },
    {
     "name": "stdout",
     "output_type": "stream",
     "text": [
      "time: 2.96 s\n"
     ]
    }
   ],
   "source": [
    "sys.stdout = notebook_stdout\n",
    "sys.stderr = notebook_stderr\n",
    "fpr, tpr, thresh = metrics.precision_recall_curve(y_train, y_train_pred)\n",
    "train_auc = metrics.average_precision_score(y_train, y_train_pred)\n",
    "plot(fpr, tpr, label=\"train\")\n",
    "\n",
    "fpr, tpr, thresh = metrics.precision_recall_curve(y_test, y_test_pred)\n",
    "test_auc = metrics.average_precision_score(y_test, y_test_pred)\n",
    "\n",
    "plot(fpr, tpr, label=\"test\")\n",
    "\n",
    "plt.legend(loc=4)\n",
    "plt.figure()\n",
    "print(\"Train PR AUC {0}\".format(train_auc))\n",
    "print(\"Test PR AUC {0}\".format(test_auc))"
   ]
  },
  {
   "cell_type": "code",
   "execution_count": 15,
   "metadata": {
    "collapsed": true
   },
   "outputs": [],
   "source": [
    "print \"POTATO\""
   ]
  },
  {
   "cell_type": "code",
   "execution_count": 19,
   "metadata": {
    "collapsed": false
   },
   "outputs": [
    {
     "name": "stdout",
     "output_type": "stream",
     "text": [
      "[0.001, 0.01, 0.1]\n",
      "time: 1.63 ms\n"
     ]
    }
   ],
   "source": [
    "print negs"
   ]
  },
  {
   "cell_type": "code",
   "execution_count": null,
   "metadata": {
    "collapsed": true
   },
   "outputs": [],
   "source": []
  }
 ],
 "metadata": {
  "kernelspec": {
   "display_name": "Python 2",
   "language": "python",
   "name": "python2"
  },
  "language_info": {
   "codemirror_mode": {
    "name": "ipython",
    "version": 2
   },
   "file_extension": ".py",
   "mimetype": "text/x-python",
   "name": "python",
   "nbconvert_exporter": "python",
   "pygments_lexer": "ipython2",
   "version": "2.7.12"
  }
 },
 "nbformat": 4,
 "nbformat_minor": 0
}
